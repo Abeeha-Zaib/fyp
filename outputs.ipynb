{
 "cells": [
  {
   "cell_type": "code",
   "execution_count": 1,
   "metadata": {
    "id": "VMZHOgNsrnAp"
   },
   "outputs": [],
   "source": [
    "from google.colab import drive"
   ]
  },
  {
   "cell_type": "code",
   "execution_count": 2,
   "metadata": {
    "colab": {
     "base_uri": "https://localhost:8080/"
    },
    "id": "jr2XR3JZr4hU",
    "outputId": "89152426-7513-4ea1-f0e2-1c2b4d568a68"
   },
   "outputs": [
    {
     "name": "stdout",
     "output_type": "stream",
     "text": [
      "Drive already mounted at /content/drive; to attempt to forcibly remount, call drive.mount(\"/content/drive\", force_remount=True).\n"
     ]
    }
   ],
   "source": [
    "drive.mount('/content/drive')"
   ]
  },
  {
   "cell_type": "code",
   "execution_count": 3,
   "metadata": {
    "id": "gEgZ8ShBsK5u"
   },
   "outputs": [],
   "source": [
    "import keras,os\n",
    "from keras.models import Sequential\n",
    "from keras.layers import Dense, Conv2D, MaxPool2D , Flatten\n",
    "from keras.preprocessing.image import ImageDataGenerator\n",
    "import numpy as np\n",
    "import tensorflow as tf"
   ]
  },
  {
   "cell_type": "code",
   "execution_count": 4,
   "metadata": {
    "colab": {
     "base_uri": "https://localhost:8080/"
    },
    "id": "ytyxJ1iZsUQq",
    "outputId": "6cdf9891-f461-4d87-cb42-be45875f713e"
   },
   "outputs": [
    {
     "name": "stdout",
     "output_type": "stream",
     "text": [
      "Found 20794 images belonging to 2 classes.\n",
      "Found 5265 images belonging to 2 classes.\n"
     ]
    }
   ],
   "source": [
    "trdata = ImageDataGenerator(rescale=1/255) #to rescale\n",
    "        \n",
    "train_generator = trdata.flow_from_directory(directory=\"/content/drive/MyDrive/5-slices/train\",target_size=(224,224))\n",
    "tsdata = ImageDataGenerator(rescale=1/255) #to rescale\n",
    "    \n",
    "validation_generator = tsdata.flow_from_directory(directory=\"/content/drive/MyDrive/5-slices/test\", target_size=(224,224))"
   ]
  },
  {
   "cell_type": "code",
   "execution_count": 5,
   "metadata": {
    "id": "BAfE6SlU_HGh"
   },
   "outputs": [],
   "source": [
    "model = Sequential()\n",
    "model.add(Conv2D(input_shape=(224,224,3),filters=64,kernel_size=(3,3),padding=\"same\", activation=\"relu\"))\n",
    "model.add(Conv2D(filters=64,kernel_size=(3,3),padding=\"same\", activation=\"relu\"))\n",
    "model.add(MaxPool2D(pool_size=(2,2),strides=(2,2)))\n",
    "model.add(Conv2D(filters=128, kernel_size=(3,3), padding=\"same\", activation=\"relu\"))\n",
    "model.add(Conv2D(filters=128, kernel_size=(3,3), padding=\"same\", activation=\"relu\"))\n",
    "model.add(MaxPool2D(pool_size=(2,2),strides=(2,2)))\n",
    "model.add(Conv2D(filters=256, kernel_size=(3,3), padding=\"same\", activation=\"relu\"))\n",
    "model.add(Conv2D(filters=256, kernel_size=(3,3), padding=\"same\", activation=\"relu\"))\n",
    "model.add(Conv2D(filters=256, kernel_size=(3,3), padding=\"same\", activation=\"relu\"))\n",
    "model.add(MaxPool2D(pool_size=(2,2),strides=(2,2)))\n",
    "model.add(Conv2D(filters=512, kernel_size=(3,3), padding=\"same\", activation=\"relu\"))\n",
    "model.add(Conv2D(filters=512, kernel_size=(3,3), padding=\"same\", activation=\"relu\"))\n",
    "model.add(Conv2D(filters=512, kernel_size=(3,3), padding=\"same\", activation=\"relu\"))\n",
    "model.add(MaxPool2D(pool_size=(2,2),strides=(2,2)))\n",
    "model.add(Conv2D(filters=512, kernel_size=(3,3), padding=\"same\", activation=\"relu\"))\n",
    "model.add(Conv2D(filters=512, kernel_size=(3,3), padding=\"same\", activation=\"relu\"))\n",
    "model.add(Conv2D(filters=512, kernel_size=(3,3), padding=\"same\", activation=\"relu\"))\n",
    "model.add(MaxPool2D(pool_size=(2,2),strides=(2,2)))"
   ]
  },
  {
   "cell_type": "code",
   "execution_count": 6,
   "metadata": {
    "id": "8AQ6b-bm_Mwb"
   },
   "outputs": [],
   "source": [
    "model.add(Flatten())\n",
    "model.add(Dense(units=2, activation=\"sigmoid\"))"
   ]
  },
  {
   "cell_type": "code",
   "execution_count": 7,
   "metadata": {
    "id": "5eP5N-mL_OrN"
   },
   "outputs": [],
   "source": [
    "from tensorflow.keras.optimizers import Adam\n",
    "opt = Adam(learning_rate=0.001)\n",
    "model.compile(optimizer=opt, loss=keras.losses.categorical_crossentropy, metrics=['accuracy',tf.keras.metrics.Recall(),tf.keras.metrics.TruePositives(),tf.keras.metrics.TrueNegatives(),tf.keras.metrics.FalsePositives(),tf.keras.metrics.FalseNegatives()])"
   ]
  },
  {
   "cell_type": "code",
   "execution_count": 8,
   "metadata": {
    "colab": {
     "base_uri": "https://localhost:8080/"
    },
    "id": "rPcFl2-B_Voi",
    "outputId": "8df27d1b-87a2-49bb-f06c-5b9f76552f82"
   },
   "outputs": [
    {
     "name": "stdout",
     "output_type": "stream",
     "text": [
      "Model: \"sequential\"\n",
      "_________________________________________________________________\n",
      " Layer (type)                Output Shape              Param #   \n",
      "=================================================================\n",
      " conv2d (Conv2D)             (None, 224, 224, 64)      1792      \n",
      "                                                                 \n",
      " conv2d_1 (Conv2D)           (None, 224, 224, 64)      36928     \n",
      "                                                                 \n",
      " max_pooling2d (MaxPooling2D  (None, 112, 112, 64)     0         \n",
      " )                                                               \n",
      "                                                                 \n",
      " conv2d_2 (Conv2D)           (None, 112, 112, 128)     73856     \n",
      "                                                                 \n",
      " conv2d_3 (Conv2D)           (None, 112, 112, 128)     147584    \n",
      "                                                                 \n",
      " max_pooling2d_1 (MaxPooling  (None, 56, 56, 128)      0         \n",
      " 2D)                                                             \n",
      "                                                                 \n",
      " conv2d_4 (Conv2D)           (None, 56, 56, 256)       295168    \n",
      "                                                                 \n",
      " conv2d_5 (Conv2D)           (None, 56, 56, 256)       590080    \n",
      "                                                                 \n",
      " conv2d_6 (Conv2D)           (None, 56, 56, 256)       590080    \n",
      "                                                                 \n",
      " max_pooling2d_2 (MaxPooling  (None, 28, 28, 256)      0         \n",
      " 2D)                                                             \n",
      "                                                                 \n",
      " conv2d_7 (Conv2D)           (None, 28, 28, 512)       1180160   \n",
      "                                                                 \n",
      " conv2d_8 (Conv2D)           (None, 28, 28, 512)       2359808   \n",
      "                                                                 \n",
      " conv2d_9 (Conv2D)           (None, 28, 28, 512)       2359808   \n",
      "                                                                 \n",
      " max_pooling2d_3 (MaxPooling  (None, 14, 14, 512)      0         \n",
      " 2D)                                                             \n",
      "                                                                 \n",
      " conv2d_10 (Conv2D)          (None, 14, 14, 512)       2359808   \n",
      "                                                                 \n",
      " conv2d_11 (Conv2D)          (None, 14, 14, 512)       2359808   \n",
      "                                                                 \n",
      " conv2d_12 (Conv2D)          (None, 14, 14, 512)       2359808   \n",
      "                                                                 \n",
      " max_pooling2d_4 (MaxPooling  (None, 7, 7, 512)        0         \n",
      " 2D)                                                             \n",
      "                                                                 \n",
      " flatten (Flatten)           (None, 25088)             0         \n",
      "                                                                 \n",
      " dense (Dense)               (None, 2)                 50178     \n",
      "                                                                 \n",
      "=================================================================\n",
      "Total params: 14,764,866\n",
      "Trainable params: 14,764,866\n",
      "Non-trainable params: 0\n",
      "_________________________________________________________________\n"
     ]
    }
   ],
   "source": [
    "model.summary()"
   ]
  },
  {
   "cell_type": "code",
   "execution_count": 9,
   "metadata": {
    "colab": {
     "base_uri": "https://localhost:8080/"
    },
    "id": "fZpkKuAj_XuM",
    "outputId": "1885cc22-ea7b-4331-f39e-8ca756896267"
   },
   "outputs": [
    {
     "name": "stdout",
     "output_type": "stream",
     "text": [
      "Epoch 1/30\n",
      "\n",
      "Epoch 1: accuracy improved from -inf to 0.90625, saving model to vgg16_3.h5\n",
      " 1/10 [==>...........................] - ETA: 2:37 - loss: 0.6923 - accuracy: 0.9062 - recall: 0.9375 - true_positives: 30.0000 - true_negatives: 29.0000 - false_positives: 3.0000 - false_negatives: 2.0000\n",
      "Epoch 1: accuracy did not improve from 0.90625\n",
      " 2/10 [=====>........................] - ETA: 3s - loss: 1.7528 - accuracy: 0.8906 - recall: 0.9062 - true_positives: 58.0000 - true_negatives: 57.0000 - false_positives: 7.0000 - false_negatives: 6.0000  \n",
      "Epoch 1: accuracy did not improve from 0.90625\n",
      " 3/10 [========>.....................] - ETA: 20s - loss: 1.3956 - accuracy: 0.8854 - recall: 0.8958 - true_positives: 86.0000 - true_negatives: 85.0000 - false_positives: 11.0000 - false_negatives: 10.0000\n",
      "Epoch 1: accuracy did not improve from 0.90625\n",
      " 4/10 [===========>..................] - ETA: 22s - loss: 1.2162 - accuracy: 0.8672 - recall: 0.8750 - true_positives: 112.0000 - true_negatives: 111.0000 - false_positives: 17.0000 - false_negatives: 16.0000\n",
      "Epoch 1: accuracy did not improve from 0.90625\n",
      " 5/10 [==============>...............] - ETA: 22s - loss: 1.1020 - accuracy: 0.8813 - recall: 0.8875 - true_positives: 142.0000 - true_negatives: 141.0000 - false_positives: 19.0000 - false_negatives: 18.0000\n",
      "Epoch 1: accuracy did not improve from 0.90625\n",
      " 6/10 [=================>............] - ETA: 18s - loss: 1.0078 - accuracy: 0.8802 - recall: 0.8854 - true_positives: 170.0000 - true_negatives: 169.0000 - false_positives: 23.0000 - false_negatives: 22.0000\n",
      "Epoch 1: accuracy did not improve from 0.90625\n",
      " 7/10 [====================>.........] - ETA: 14s - loss: 0.9384 - accuracy: 0.8795 - recall: 0.8839 - true_positives: 198.0000 - true_negatives: 197.0000 - false_positives: 27.0000 - false_negatives: 26.0000\n",
      "Epoch 1: accuracy did not improve from 0.90625\n",
      " 8/10 [=======================>......] - ETA: 9s - loss: 0.8721 - accuracy: 0.8828 - recall: 0.8867 - true_positives: 227.0000 - true_negatives: 226.0000 - false_positives: 30.0000 - false_negatives: 29.0000 \n",
      "Epoch 1: accuracy did not improve from 0.90625\n",
      " 9/10 [==========================>...] - ETA: 4s - loss: 0.8254 - accuracy: 0.8854 - recall: 0.8889 - true_positives: 256.0000 - true_negatives: 255.0000 - false_positives: 33.0000 - false_negatives: 32.0000\n",
      "Epoch 1: accuracy did not improve from 0.90625\n",
      "10/10 [==============================] - 96s 9s/step - loss: 0.7774 - accuracy: 0.8906 - recall: 0.8938 - true_positives: 286.0000 - true_negatives: 285.0000 - false_positives: 35.0000 - false_negatives: 34.0000 - val_loss: 0.3926 - val_accuracy: 0.8719 - val_recall: 0.8719 - val_true_positives: 279.0000 - val_true_negatives: 279.0000 - val_false_positives: 41.0000 - val_false_negatives: 41.0000\n",
      "Epoch 2/30\n",
      "\n",
      "Epoch 2: accuracy did not improve from 0.90625\n",
      " 1/10 [==>...........................] - ETA: 45s - loss: 0.3806 - accuracy: 0.8750 - recall: 0.8750 - true_positives: 28.0000 - true_negatives: 28.0000 - false_positives: 4.0000 - false_negatives: 4.0000\n",
      "Epoch 2: accuracy did not improve from 0.90625\n",
      " 2/10 [=====>........................] - ETA: 43s - loss: 0.3154 - accuracy: 0.9062 - recall: 0.9062 - true_positives: 58.0000 - true_negatives: 58.0000 - false_positives: 6.0000 - false_negatives: 6.0000\n",
      "Epoch 2: accuracy did not improve from 0.90625\n",
      " 3/10 [========>.....................] - ETA: 37s - loss: 0.3374 - accuracy: 0.9062 - recall: 0.9062 - true_positives: 87.0000 - true_negatives: 87.0000 - false_positives: 9.0000 - false_negatives: 9.0000\n",
      "Epoch 2: accuracy did not improve from 0.90625\n",
      " 4/10 [===========>..................] - ETA: 30s - loss: 0.4026 - accuracy: 0.8828 - recall: 0.8828 - true_positives: 113.0000 - true_negatives: 113.0000 - false_positives: 15.0000 - false_negatives: 15.0000\n",
      "Epoch 2: accuracy did not improve from 0.90625\n",
      " 5/10 [==============>...............] - ETA: 24s - loss: 0.4185 - accuracy: 0.8687 - recall: 0.8687 - true_positives: 139.0000 - true_negatives: 139.0000 - false_positives: 21.0000 - false_negatives: 21.0000\n",
      "Epoch 2: accuracy did not improve from 0.90625\n",
      " 6/10 [=================>............] - ETA: 20s - loss: 0.4170 - accuracy: 0.8802 - recall: 0.8802 - true_positives: 169.0000 - true_negatives: 169.0000 - false_positives: 23.0000 - false_negatives: 23.0000\n",
      "Epoch 2: accuracy did not improve from 0.90625\n",
      " 7/10 [====================>.........] - ETA: 15s - loss: 0.4198 - accuracy: 0.8884 - recall: 0.8884 - true_positives: 199.0000 - true_negatives: 199.0000 - false_positives: 25.0000 - false_negatives: 25.0000\n",
      "Epoch 2: accuracy did not improve from 0.90625\n",
      " 8/10 [=======================>......] - ETA: 10s - loss: 0.4230 - accuracy: 0.8906 - recall: 0.8906 - true_positives: 228.0000 - true_negatives: 228.0000 - false_positives: 28.0000 - false_negatives: 28.0000\n",
      "Epoch 2: accuracy did not improve from 0.90625\n",
      " 9/10 [==========================>...] - ETA: 5s - loss: 0.4153 - accuracy: 0.8993 - recall: 0.8993 - true_positives: 259.0000 - true_negatives: 259.0000 - false_positives: 29.0000 - false_negatives: 29.0000 \n",
      "Epoch 2: accuracy did not improve from 0.90625\n",
      "10/10 [==============================] - 82s 9s/step - loss: 0.4066 - accuracy: 0.9031 - recall: 0.9031 - true_positives: 289.0000 - true_negatives: 289.0000 - false_positives: 31.0000 - false_negatives: 31.0000 - val_loss: 0.3466 - val_accuracy: 0.8938 - val_recall: 0.8938 - val_true_positives: 286.0000 - val_true_negatives: 286.0000 - val_false_positives: 34.0000 - val_false_negatives: 34.0000\n",
      "Epoch 3/30\n",
      "\n",
      "Epoch 3: accuracy did not improve from 0.90625\n",
      " 1/10 [==>...........................] - ETA: 49s - loss: 0.4336 - accuracy: 0.8438 - recall: 0.8438 - true_positives: 27.0000 - true_negatives: 27.0000 - false_positives: 5.0000 - false_negatives: 5.0000\n",
      "Epoch 3: accuracy did not improve from 0.90625\n",
      " 2/10 [=====>........................] - ETA: 41s - loss: 0.3016 - accuracy: 0.9062 - recall: 0.9062 - true_positives: 58.0000 - true_negatives: 58.0000 - false_positives: 6.0000 - false_negatives: 6.0000\n",
      "Epoch 3: accuracy did not improve from 0.90625\n",
      " 3/10 [========>.....................] - ETA: 35s - loss: 0.3114 - accuracy: 0.9062 - recall: 0.9062 - true_positives: 87.0000 - true_negatives: 87.0000 - false_positives: 9.0000 - false_negatives: 9.0000\n",
      "Epoch 3: accuracy improved from 0.90625 to 0.91406, saving model to vgg16_3.h5\n",
      " 4/10 [===========>..................] - ETA: 32s - loss: 0.2967 - accuracy: 0.9141 - recall: 0.9141 - true_positives: 117.0000 - true_negatives: 117.0000 - false_positives: 11.0000 - false_negatives: 11.0000\n",
      "Epoch 3: accuracy did not improve from 0.91406\n",
      " 5/10 [==============>...............] - ETA: 26s - loss: 0.3660 - accuracy: 0.9000 - recall: 0.9000 - true_positives: 144.0000 - true_negatives: 144.0000 - false_positives: 16.0000 - false_negatives: 16.0000\n",
      "Epoch 3: accuracy did not improve from 0.91406\n",
      " 6/10 [=================>............] - ETA: 21s - loss: 0.3838 - accuracy: 0.8958 - recall: 0.8958 - true_positives: 172.0000 - true_negatives: 172.0000 - false_positives: 20.0000 - false_negatives: 20.0000\n",
      "Epoch 3: accuracy did not improve from 0.91406\n",
      " 7/10 [====================>.........] - ETA: 15s - loss: 0.4011 - accuracy: 0.8884 - recall: 0.8884 - true_positives: 199.0000 - true_negatives: 199.0000 - false_positives: 25.0000 - false_negatives: 25.0000\n",
      "Epoch 3: accuracy did not improve from 0.91406\n",
      " 8/10 [=======================>......] - ETA: 10s - loss: 0.3813 - accuracy: 0.8945 - recall: 0.8945 - true_positives: 229.0000 - true_negatives: 229.0000 - false_positives: 27.0000 - false_negatives: 27.0000\n",
      "Epoch 3: accuracy did not improve from 0.91406\n",
      " 9/10 [==========================>...] - ETA: 5s - loss: 0.3810 - accuracy: 0.8924 - recall: 0.8924 - true_positives: 257.0000 - true_negatives: 257.0000 - false_positives: 31.0000 - false_negatives: 31.0000 \n",
      "Epoch 3: accuracy did not improve from 0.91406\n",
      "10/10 [==============================] - 80s 8s/step - loss: 0.3772 - accuracy: 0.8938 - recall: 0.8938 - true_positives: 286.0000 - true_negatives: 286.0000 - false_positives: 34.0000 - false_negatives: 34.0000 - val_loss: 0.4374 - val_accuracy: 0.8469 - val_recall: 0.8469 - val_true_positives: 271.0000 - val_true_negatives: 271.0000 - val_false_positives: 49.0000 - val_false_negatives: 49.0000\n",
      "Epoch 4/30\n",
      "\n",
      "Epoch 4: accuracy did not improve from 0.91406\n",
      " 1/10 [==>...........................] - ETA: 47s - loss: 0.4416 - accuracy: 0.8438 - recall: 0.8438 - true_positives: 27.0000 - true_negatives: 27.0000 - false_positives: 5.0000 - false_negatives: 5.0000\n",
      "Epoch 4: accuracy did not improve from 0.91406\n",
      " 2/10 [=====>........................] - ETA: 40s - loss: 0.4044 - accuracy: 0.8750 - recall: 0.8750 - true_positives: 56.0000 - true_negatives: 56.0000 - false_positives: 8.0000 - false_negatives: 8.0000\n",
      "Epoch 4: accuracy did not improve from 0.91406\n",
      " 3/10 [========>.....................] - ETA: 33s - loss: 0.4050 - accuracy: 0.8750 - recall: 0.8750 - true_positives: 84.0000 - true_negatives: 84.0000 - false_positives: 12.0000 - false_negatives: 12.0000\n",
      "Epoch 4: accuracy did not improve from 0.91406\n",
      " 4/10 [===========>..................] - ETA: 28s - loss: 0.3834 - accuracy: 0.8906 - recall: 0.8906 - true_positives: 114.0000 - true_negatives: 114.0000 - false_positives: 14.0000 - false_negatives: 14.0000\n",
      "Epoch 4: accuracy did not improve from 0.91406\n",
      " 5/10 [==============>...............] - ETA: 23s - loss: 0.3758 - accuracy: 0.8938 - recall: 0.8938 - true_positives: 143.0000 - true_negatives: 143.0000 - false_positives: 17.0000 - false_negatives: 17.0000\n",
      "Epoch 4: accuracy did not improve from 0.91406\n",
      " 6/10 [=================>............] - ETA: 19s - loss: 0.3681 - accuracy: 0.8958 - recall: 0.8958 - true_positives: 172.0000 - true_negatives: 172.0000 - false_positives: 20.0000 - false_negatives: 20.0000\n",
      "Epoch 4: accuracy did not improve from 0.91406\n",
      " 7/10 [====================>.........] - ETA: 14s - loss: 0.3609 - accuracy: 0.8973 - recall: 0.8973 - true_positives: 201.0000 - true_negatives: 201.0000 - false_positives: 23.0000 - false_negatives: 23.0000\n",
      "Epoch 4: accuracy did not improve from 0.91406\n",
      " 8/10 [=======================>......] - ETA: 9s - loss: 0.3548 - accuracy: 0.8984 - recall: 0.8984 - true_positives: 230.0000 - true_negatives: 230.0000 - false_positives: 26.0000 - false_negatives: 26.0000 \n",
      "Epoch 4: accuracy did not improve from 0.91406\n",
      " 9/10 [==========================>...] - ETA: 4s - loss: 0.3501 - accuracy: 0.8993 - recall: 0.8993 - true_positives: 259.0000 - true_negatives: 259.0000 - false_positives: 29.0000 - false_negatives: 29.0000\n",
      "Epoch 4: accuracy did not improve from 0.91406\n",
      "10/10 [==============================] - 79s 8s/step - loss: 0.3469 - accuracy: 0.9000 - recall: 0.9000 - true_positives: 288.0000 - true_negatives: 288.0000 - false_positives: 32.0000 - false_negatives: 32.0000 - val_loss: 0.3613 - val_accuracy: 0.8938 - val_recall: 0.8938 - val_true_positives: 286.0000 - val_true_negatives: 286.0000 - val_false_positives: 34.0000 - val_false_negatives: 34.0000\n",
      "Epoch 5/30\n",
      "\n",
      "Epoch 5: accuracy improved from 0.91406 to 0.93750, saving model to vgg16_3.h5\n",
      " 1/10 [==>...........................] - ETA: 55s - loss: 0.2347 - accuracy: 0.9375 - recall: 0.9375 - true_positives: 30.0000 - true_negatives: 30.0000 - false_positives: 2.0000 - false_negatives: 2.0000\n",
      "Epoch 5: accuracy did not improve from 0.93750\n",
      " 2/10 [=====>........................] - ETA: 29s - loss: 0.2835 - accuracy: 0.9219 - recall: 0.9219 - true_positives: 59.0000 - true_negatives: 59.0000 - false_positives: 5.0000 - false_negatives: 5.0000\n",
      "Epoch 5: accuracy did not improve from 0.93750\n",
      " 3/10 [========>.....................] - ETA: 27s - loss: 0.3647 - accuracy: 0.8958 - recall: 0.8958 - true_positives: 86.0000 - true_negatives: 86.0000 - false_positives: 10.0000 - false_negatives: 10.0000\n",
      "Epoch 5: accuracy did not improve from 0.93750\n",
      " 4/10 [===========>..................] - ETA: 27s - loss: 0.3096 - accuracy: 0.9141 - recall: 0.9141 - true_positives: 117.0000 - true_negatives: 117.0000 - false_positives: 11.0000 - false_negatives: 11.0000\n",
      "Epoch 5: accuracy did not improve from 0.93750\n",
      " 5/10 [==============>...............] - ETA: 24s - loss: 0.2945 - accuracy: 0.9187 - recall: 0.9187 - true_positives: 147.0000 - true_negatives: 147.0000 - false_positives: 13.0000 - false_negatives: 13.0000\n",
      "Epoch 5: accuracy did not improve from 0.93750\n",
      " 6/10 [=================>............] - ETA: 19s - loss: 0.3121 - accuracy: 0.9115 - recall: 0.9115 - true_positives: 175.0000 - true_negatives: 175.0000 - false_positives: 17.0000 - false_negatives: 17.0000\n",
      "Epoch 5: accuracy did not improve from 0.93750\n",
      " 7/10 [====================>.........] - ETA: 14s - loss: 0.3011 - accuracy: 0.9152 - recall: 0.9152 - true_positives: 205.0000 - true_negatives: 205.0000 - false_positives: 19.0000 - false_negatives: 19.0000\n",
      "Epoch 5: accuracy did not improve from 0.93750\n",
      " 8/10 [=======================>......] - ETA: 9s - loss: 0.3024 - accuracy: 0.9141 - recall: 0.9141 - true_positives: 234.0000 - true_negatives: 234.0000 - false_positives: 22.0000 - false_negatives: 22.0000 \n",
      "Epoch 5: accuracy did not improve from 0.93750\n",
      " 9/10 [==========================>...] - ETA: 4s - loss: 0.2957 - accuracy: 0.9167 - recall: 0.9167 - true_positives: 264.0000 - true_negatives: 264.0000 - false_positives: 24.0000 - false_negatives: 24.0000\n",
      "Epoch 5: accuracy did not improve from 0.93750\n",
      "10/10 [==============================] - 74s 8s/step - loss: 0.2973 - accuracy: 0.9156 - recall: 0.9156 - true_positives: 293.0000 - true_negatives: 293.0000 - false_positives: 27.0000 - false_negatives: 27.0000 - val_loss: 0.5101 - val_accuracy: 0.8125 - val_recall: 0.8125 - val_true_positives: 260.0000 - val_true_negatives: 260.0000 - val_false_positives: 60.0000 - val_false_negatives: 60.0000\n",
      "Epoch 6/30\n",
      "\n",
      "Epoch 6: accuracy did not improve from 0.93750\n",
      " 1/10 [==>...........................] - ETA: 51s - loss: 0.4441 - accuracy: 0.8438 - recall: 0.8438 - true_positives: 27.0000 - true_negatives: 27.0000 - false_positives: 5.0000 - false_negatives: 5.0000\n",
      "Epoch 6: accuracy did not improve from 0.93750\n",
      " 2/10 [=====>........................] - ETA: 37s - loss: 0.4422 - accuracy: 0.8438 - recall: 0.8438 - true_positives: 54.0000 - true_negatives: 54.0000 - false_positives: 10.0000 - false_negatives: 10.0000\n",
      "Epoch 6: accuracy did not improve from 0.93750\n",
      " 3/10 [========>.....................] - ETA: 32s - loss: 0.4601 - accuracy: 0.8333 - recall: 0.8333 - true_positives: 80.0000 - true_negatives: 80.0000 - false_positives: 16.0000 - false_negatives: 16.0000\n",
      "Epoch 6: accuracy did not improve from 0.93750\n",
      " 4/10 [===========>..................] - ETA: 30s - loss: 0.4124 - accuracy: 0.8594 - recall: 0.8594 - true_positives: 110.0000 - true_negatives: 110.0000 - false_positives: 18.0000 - false_negatives: 18.0000\n",
      "Epoch 6: accuracy did not improve from 0.93750\n",
      " 5/10 [==============>...............] - ETA: 25s - loss: 0.3954 - accuracy: 0.8687 - recall: 0.8687 - true_positives: 139.0000 - true_negatives: 139.0000 - false_positives: 21.0000 - false_negatives: 21.0000\n",
      "Epoch 6: accuracy did not improve from 0.93750\n",
      " 6/10 [=================>............] - ETA: 20s - loss: 0.3929 - accuracy: 0.8698 - recall: 0.8698 - true_positives: 167.0000 - true_negatives: 167.0000 - false_positives: 25.0000 - false_negatives: 25.0000\n",
      "Epoch 6: accuracy did not improve from 0.93750\n",
      " 7/10 [====================>.........] - ETA: 15s - loss: 0.3911 - accuracy: 0.8705 - recall: 0.8705 - true_positives: 195.0000 - true_negatives: 195.0000 - false_positives: 29.0000 - false_negatives: 29.0000\n",
      "Epoch 6: accuracy did not improve from 0.93750\n",
      " 8/10 [=======================>......] - ETA: 10s - loss: 0.3828 - accuracy: 0.8750 - recall: 0.8750 - true_positives: 224.0000 - true_negatives: 224.0000 - false_positives: 32.0000 - false_negatives: 32.0000\n",
      "Epoch 6: accuracy did not improve from 0.93750\n",
      " 9/10 [==========================>...] - ETA: 5s - loss: 0.3885 - accuracy: 0.8715 - recall: 0.8715 - true_positives: 251.0000 - true_negatives: 251.0000 - false_positives: 37.0000 - false_negatives: 37.0000 \n",
      "Epoch 6: accuracy did not improve from 0.93750\n",
      "10/10 [==============================] - 75s 8s/step - loss: 0.3815 - accuracy: 0.8750 - recall: 0.8750 - true_positives: 280.0000 - true_negatives: 280.0000 - false_positives: 40.0000 - false_negatives: 40.0000 - val_loss: 0.3277 - val_accuracy: 0.9000 - val_recall: 0.9000 - val_true_positives: 288.0000 - val_true_negatives: 288.0000 - val_false_positives: 32.0000 - val_false_negatives: 32.0000\n",
      "Epoch 7/30\n",
      "\n",
      "Epoch 7: accuracy did not improve from 0.93750\n",
      " 1/10 [==>...........................] - ETA: 53s - loss: 0.3154 - accuracy: 0.9062 - recall: 0.9062 - true_positives: 29.0000 - true_negatives: 29.0000 - false_positives: 3.0000 - false_negatives: 3.0000\n",
      "Epoch 7: accuracy did not improve from 0.93750\n",
      " 2/10 [=====>........................] - ETA: 46s - loss: 0.2495 - accuracy: 0.9375 - recall: 0.9375 - true_positives: 60.0000 - true_negatives: 60.0000 - false_positives: 4.0000 - false_negatives: 4.0000\n",
      "Epoch 7: accuracy did not improve from 0.93750\n",
      " 3/10 [========>.....................] - ETA: 38s - loss: 0.2466 - accuracy: 0.9375 - recall: 0.9375 - true_positives: 90.0000 - true_negatives: 90.0000 - false_positives: 6.0000 - false_negatives: 6.0000\n",
      "Epoch 7: accuracy did not improve from 0.93750\n",
      " 4/10 [===========>..................] - ETA: 32s - loss: 0.2438 - accuracy: 0.9375 - recall: 0.9375 - true_positives: 120.0000 - true_negatives: 120.0000 - false_positives: 8.0000 - false_negatives: 8.0000\n",
      "Epoch 7: accuracy did not improve from 0.93750\n",
      " 5/10 [==============>...............] - ETA: 27s - loss: 0.2755 - accuracy: 0.9250 - recall: 0.9250 - true_positives: 148.0000 - true_negatives: 148.0000 - false_positives: 12.0000 - false_negatives: 12.0000\n",
      "Epoch 7: accuracy did not improve from 0.93750\n",
      " 6/10 [=================>............] - ETA: 21s - loss: 0.2980 - accuracy: 0.9167 - recall: 0.9167 - true_positives: 176.0000 - true_negatives: 176.0000 - false_positives: 16.0000 - false_negatives: 16.0000\n",
      "Epoch 7: accuracy did not improve from 0.93750\n",
      " 7/10 [====================>.........] - ETA: 16s - loss: 0.2888 - accuracy: 0.9196 - recall: 0.9196 - true_positives: 206.0000 - true_negatives: 206.0000 - false_positives: 18.0000 - false_negatives: 18.0000\n",
      "Epoch 7: accuracy did not improve from 0.93750\n",
      " 8/10 [=======================>......] - ETA: 10s - loss: 0.2929 - accuracy: 0.9180 - recall: 0.9180 - true_positives: 235.0000 - true_negatives: 235.0000 - false_positives: 21.0000 - false_negatives: 21.0000\n",
      "Epoch 7: accuracy did not improve from 0.93750\n",
      " 9/10 [==========================>...] - ETA: 5s - loss: 0.2958 - accuracy: 0.9167 - recall: 0.9167 - true_positives: 264.0000 - true_negatives: 264.0000 - false_positives: 24.0000 - false_negatives: 24.0000 \n",
      "Epoch 7: accuracy did not improve from 0.93750\n",
      "10/10 [==============================] - 80s 8s/step - loss: 0.2978 - accuracy: 0.9156 - recall: 0.9156 - true_positives: 293.0000 - true_negatives: 293.0000 - false_positives: 27.0000 - false_negatives: 27.0000 - val_loss: 0.4915 - val_accuracy: 0.8344 - val_recall: 0.8344 - val_true_positives: 267.0000 - val_true_negatives: 267.0000 - val_false_positives: 53.0000 - val_false_negatives: 53.0000\n",
      "Epoch 8/30\n",
      "\n",
      "Epoch 8: accuracy improved from 0.93750 to 0.96875, saving model to vgg16_3.h5\n",
      " 1/10 [==>...........................] - ETA: 52s - loss: 0.1578 - accuracy: 0.9688 - recall: 0.9688 - true_positives: 31.0000 - true_negatives: 31.0000 - false_positives: 1.0000 - false_negatives: 1.0000\n",
      "Epoch 8: accuracy did not improve from 0.96875\n",
      " 2/10 [=====>........................] - ETA: 35s - loss: 0.3108 - accuracy: 0.9062 - recall: 0.9062 - true_positives: 58.0000 - true_negatives: 58.0000 - false_positives: 6.0000 - false_negatives: 6.0000\n",
      "Epoch 8: accuracy did not improve from 0.96875\n",
      " 3/10 [========>.....................] - ETA: 33s - loss: 0.2871 - accuracy: 0.9167 - recall: 0.9167 - true_positives: 88.0000 - true_negatives: 88.0000 - false_positives: 8.0000 - false_negatives: 8.0000\n",
      "Epoch 8: accuracy did not improve from 0.96875\n",
      " 4/10 [===========>..................] - ETA: 27s - loss: 0.3790 - accuracy: 0.8750 - recall: 0.8750 - true_positives: 112.0000 - true_negatives: 112.0000 - false_positives: 16.0000 - false_negatives: 16.0000\n",
      "Epoch 8: accuracy did not improve from 0.96875\n",
      " 5/10 [==============>...............] - ETA: 24s - loss: 0.3786 - accuracy: 0.8750 - recall: 0.8750 - true_positives: 140.0000 - true_negatives: 140.0000 - false_positives: 20.0000 - false_negatives: 20.0000\n",
      "Epoch 8: accuracy did not improve from 0.96875\n",
      " 6/10 [=================>............] - ETA: 18s - loss: 0.3878 - accuracy: 0.8698 - recall: 0.8698 - true_positives: 167.0000 - true_negatives: 167.0000 - false_positives: 25.0000 - false_negatives: 25.0000\n",
      "Epoch 8: accuracy did not improve from 0.96875\n",
      " 7/10 [====================>.........] - ETA: 14s - loss: 0.3799 - accuracy: 0.8750 - recall: 0.8750 - true_positives: 196.0000 - true_negatives: 196.0000 - false_positives: 28.0000 - false_negatives: 28.0000\n",
      "Epoch 8: accuracy did not improve from 0.96875\n",
      " 8/10 [=======================>......] - ETA: 9s - loss: 0.3630 - accuracy: 0.8867 - recall: 0.8867 - true_positives: 227.0000 - true_negatives: 227.0000 - false_positives: 29.0000 - false_negatives: 29.0000 \n",
      "Epoch 8: accuracy did not improve from 0.96875\n",
      " 9/10 [==========================>...] - ETA: 4s - loss: 0.3604 - accuracy: 0.8889 - recall: 0.8889 - true_positives: 256.0000 - true_negatives: 256.0000 - false_positives: 32.0000 - false_negatives: 32.0000\n",
      "Epoch 8: accuracy did not improve from 0.96875\n",
      "10/10 [==============================] - 67s 7s/step - loss: 0.3777 - accuracy: 0.8781 - recall: 0.8781 - true_positives: 281.0000 - true_negatives: 281.0000 - false_positives: 39.0000 - false_negatives: 39.0000 - val_loss: 0.4041 - val_accuracy: 0.8625 - val_recall: 0.8625 - val_true_positives: 276.0000 - val_true_negatives: 276.0000 - val_false_positives: 44.0000 - val_false_negatives: 44.0000\n",
      "Epoch 9/30\n",
      "\n",
      "Epoch 9: accuracy did not improve from 0.96875\n",
      " 1/10 [==>...........................] - ETA: 51s - loss: 0.3344 - accuracy: 0.9062 - recall: 0.9062 - true_positives: 29.0000 - true_negatives: 29.0000 - false_positives: 3.0000 - false_negatives: 3.0000\n",
      "Epoch 9: accuracy did not improve from 0.96875\n",
      " 2/10 [=====>........................] - ETA: 36s - loss: 0.3580 - accuracy: 0.8906 - recall: 0.8906 - true_positives: 57.0000 - true_negatives: 57.0000 - false_positives: 7.0000 - false_negatives: 7.0000\n",
      "Epoch 9: accuracy did not improve from 0.96875\n",
      " 3/10 [========>.....................] - ETA: 35s - loss: 0.3470 - accuracy: 0.8958 - recall: 0.8958 - true_positives: 86.0000 - true_negatives: 86.0000 - false_positives: 10.0000 - false_negatives: 10.0000\n",
      "Epoch 9: accuracy did not improve from 0.96875\n",
      " 4/10 [===========>..................] - ETA: 29s - loss: 0.3254 - accuracy: 0.9062 - recall: 0.9062 - true_positives: 116.0000 - true_negatives: 116.0000 - false_positives: 12.0000 - false_negatives: 12.0000\n",
      "Epoch 9: accuracy did not improve from 0.96875\n",
      " 5/10 [==============>...............] - ETA: 23s - loss: 0.3358 - accuracy: 0.9000 - recall: 0.9000 - true_positives: 144.0000 - true_negatives: 144.0000 - false_positives: 16.0000 - false_negatives: 16.0000\n",
      "Epoch 9: accuracy did not improve from 0.96875\n",
      " 6/10 [=================>............] - ETA: 19s - loss: 0.3662 - accuracy: 0.8854 - recall: 0.8854 - true_positives: 170.0000 - true_negatives: 170.0000 - false_positives: 22.0000 - false_negatives: 22.0000\n",
      "Epoch 9: accuracy did not improve from 0.96875\n",
      " 7/10 [====================>.........] - ETA: 15s - loss: 0.3885 - accuracy: 0.8750 - recall: 0.8750 - true_positives: 196.0000 - true_negatives: 196.0000 - false_positives: 28.0000 - false_negatives: 28.0000\n",
      "Epoch 9: accuracy did not improve from 0.96875\n",
      " 8/10 [=======================>......] - ETA: 10s - loss: 0.3617 - accuracy: 0.8867 - recall: 0.8867 - true_positives: 227.0000 - true_negatives: 227.0000 - false_positives: 29.0000 - false_negatives: 29.0000\n",
      "Epoch 9: accuracy did not improve from 0.96875\n",
      " 9/10 [==========================>...] - ETA: 5s - loss: 0.3715 - accuracy: 0.8819 - recall: 0.8819 - true_positives: 254.0000 - true_negatives: 254.0000 - false_positives: 34.0000 - false_negatives: 34.0000 \n",
      "Epoch 9: accuracy did not improve from 0.96875\n",
      "10/10 [==============================] - 73s 7s/step - loss: 0.3927 - accuracy: 0.8719 - recall: 0.8719 - true_positives: 279.0000 - true_negatives: 279.0000 - false_positives: 41.0000 - false_negatives: 41.0000 - val_loss: 0.3771 - val_accuracy: 0.8750 - val_recall: 0.8750 - val_true_positives: 280.0000 - val_true_negatives: 280.0000 - val_false_positives: 40.0000 - val_false_negatives: 40.0000\n",
      "Epoch 10/30\n",
      "\n",
      "Epoch 10: accuracy did not improve from 0.96875\n",
      " 1/10 [==>...........................] - ETA: 45s - loss: 0.2505 - accuracy: 0.9375 - recall: 0.9375 - true_positives: 30.0000 - true_negatives: 30.0000 - false_positives: 2.0000 - false_negatives: 2.0000\n",
      "Epoch 10: accuracy did not improve from 0.96875\n",
      " 2/10 [=====>........................] - ETA: 44s - loss: 0.2223 - accuracy: 0.9531 - recall: 0.9531 - true_positives: 61.0000 - true_negatives: 61.0000 - false_positives: 3.0000 - false_negatives: 3.0000\n",
      "Epoch 10: accuracy did not improve from 0.96875\n",
      " 3/10 [========>.....................] - ETA: 37s - loss: 0.2331 - accuracy: 0.9479 - recall: 0.9479 - true_positives: 91.0000 - true_negatives: 91.0000 - false_positives: 5.0000 - false_negatives: 5.0000\n",
      "Epoch 10: accuracy did not improve from 0.96875\n",
      " 4/10 [===========>..................] - ETA: 29s - loss: 0.2376 - accuracy: 0.9453 - recall: 0.9453 - true_positives: 121.0000 - true_negatives: 121.0000 - false_positives: 7.0000 - false_negatives: 7.0000\n",
      "Epoch 10: accuracy did not improve from 0.96875\n",
      " 5/10 [==============>...............] - ETA: 23s - loss: 0.2525 - accuracy: 0.9375 - recall: 0.9375 - true_positives: 150.0000 - true_negatives: 150.0000 - false_positives: 10.0000 - false_negatives: 10.0000\n",
      "Epoch 10: accuracy did not improve from 0.96875\n",
      " 6/10 [=================>............] - ETA: 18s - loss: 0.2739 - accuracy: 0.9271 - recall: 0.9271 - true_positives: 178.0000 - true_negatives: 178.0000 - false_positives: 14.0000 - false_negatives: 14.0000\n",
      "Epoch 10: accuracy did not improve from 0.96875\n",
      " 7/10 [====================>.........] - ETA: 13s - loss: 0.2998 - accuracy: 0.9152 - recall: 0.9152 - true_positives: 205.0000 - true_negatives: 205.0000 - false_positives: 19.0000 - false_negatives: 19.0000\n",
      "Epoch 10: accuracy did not improve from 0.96875\n",
      " 8/10 [=======================>......] - ETA: 8s - loss: 0.3282 - accuracy: 0.9023 - recall: 0.9023 - true_positives: 231.0000 - true_negatives: 231.0000 - false_positives: 25.0000 - false_negatives: 25.0000 \n",
      "Epoch 10: accuracy did not improve from 0.96875\n",
      " 9/10 [==========================>...] - ETA: 4s - loss: 0.3339 - accuracy: 0.8993 - recall: 0.8993 - true_positives: 259.0000 - true_negatives: 259.0000 - false_positives: 29.0000 - false_negatives: 29.0000\n",
      "Epoch 10: accuracy did not improve from 0.96875\n",
      "10/10 [==============================] - 67s 7s/step - loss: 0.3383 - accuracy: 0.8969 - recall: 0.8969 - true_positives: 287.0000 - true_negatives: 287.0000 - false_positives: 33.0000 - false_negatives: 33.0000 - val_loss: 0.4444 - val_accuracy: 0.8406 - val_recall: 0.8406 - val_true_positives: 269.0000 - val_true_negatives: 269.0000 - val_false_positives: 51.0000 - val_false_negatives: 51.0000\n",
      "Epoch 11/30\n",
      "\n",
      "Epoch 11: accuracy did not improve from 0.96875\n",
      " 1/10 [==>...........................] - ETA: 41s - loss: 0.3153 - accuracy: 0.9062 - recall: 0.9062 - true_positives: 29.0000 - true_negatives: 29.0000 - false_positives: 3.0000 - false_negatives: 3.0000\n",
      "Epoch 11: accuracy did not improve from 0.96875\n",
      " 2/10 [=====>........................] - ETA: 37s - loss: 0.3461 - accuracy: 0.8906 - recall: 0.8906 - true_positives: 57.0000 - true_negatives: 57.0000 - false_positives: 7.0000 - false_negatives: 7.0000\n",
      "Epoch 11: accuracy did not improve from 0.96875\n",
      " 3/10 [========>.....................] - ETA: 34s - loss: 0.3757 - accuracy: 0.8750 - recall: 0.8750 - true_positives: 84.0000 - true_negatives: 84.0000 - false_positives: 12.0000 - false_negatives: 12.0000\n",
      "Epoch 11: accuracy did not improve from 0.96875\n",
      " 4/10 [===========>..................] - ETA: 27s - loss: 0.3488 - accuracy: 0.8906 - recall: 0.8906 - true_positives: 114.0000 - true_negatives: 114.0000 - false_positives: 14.0000 - false_negatives: 14.0000\n",
      "Epoch 11: accuracy did not improve from 0.96875\n",
      " 5/10 [==============>...............] - ETA: 22s - loss: 0.3437 - accuracy: 0.8938 - recall: 0.8938 - true_positives: 143.0000 - true_negatives: 143.0000 - false_positives: 17.0000 - false_negatives: 17.0000\n",
      "Epoch 11: accuracy did not improve from 0.96875\n",
      " 6/10 [=================>............] - ETA: 17s - loss: 0.3494 - accuracy: 0.8906 - recall: 0.8906 - true_positives: 171.0000 - true_negatives: 171.0000 - false_positives: 21.0000 - false_negatives: 21.0000\n",
      "Epoch 11: accuracy did not improve from 0.96875\n",
      " 7/10 [====================>.........] - ETA: 13s - loss: 0.3369 - accuracy: 0.8973 - recall: 0.8973 - true_positives: 201.0000 - true_negatives: 201.0000 - false_positives: 23.0000 - false_negatives: 23.0000\n",
      "Epoch 11: accuracy did not improve from 0.96875\n",
      " 8/10 [=======================>......] - ETA: 8s - loss: 0.3190 - accuracy: 0.9062 - recall: 0.9062 - true_positives: 232.0000 - true_negatives: 232.0000 - false_positives: 24.0000 - false_negatives: 24.0000 \n",
      "Epoch 11: accuracy did not improve from 0.96875\n",
      " 9/10 [==========================>...] - ETA: 4s - loss: 0.3108 - accuracy: 0.9097 - recall: 0.9097 - true_positives: 262.0000 - true_negatives: 262.0000 - false_positives: 26.0000 - false_negatives: 26.0000\n",
      "Epoch 11: accuracy did not improve from 0.96875\n",
      "10/10 [==============================] - 62s 6s/step - loss: 0.3182 - accuracy: 0.9062 - recall: 0.9062 - true_positives: 290.0000 - true_negatives: 290.0000 - false_positives: 30.0000 - false_negatives: 30.0000 - val_loss: 0.3835 - val_accuracy: 0.8781 - val_recall: 0.8781 - val_true_positives: 281.0000 - val_true_negatives: 281.0000 - val_false_positives: 39.0000 - val_false_negatives: 39.0000\n",
      "Epoch 12/30\n",
      "\n",
      "Epoch 12: accuracy did not improve from 0.96875\n",
      " 1/10 [==>...........................] - ETA: 53s - loss: 0.5475 - accuracy: 0.8125 - recall: 0.8125 - true_positives: 26.0000 - true_negatives: 26.0000 - false_positives: 6.0000 - false_negatives: 6.0000\n",
      "Epoch 12: accuracy did not improve from 0.96875\n",
      " 2/10 [=====>........................] - ETA: 43s - loss: 0.4697 - accuracy: 0.8438 - recall: 0.8438 - true_positives: 54.0000 - true_negatives: 54.0000 - false_positives: 10.0000 - false_negatives: 10.0000\n",
      "Epoch 12: accuracy did not improve from 0.96875\n",
      " 3/10 [========>.....................] - ETA: 31s - loss: 0.4684 - accuracy: 0.8438 - recall: 0.8438 - true_positives: 81.0000 - true_negatives: 81.0000 - false_positives: 15.0000 - false_negatives: 15.0000\n",
      "Epoch 12: accuracy did not improve from 0.96875\n",
      " 4/10 [===========>..................] - ETA: 25s - loss: 0.4110 - accuracy: 0.8672 - recall: 0.8672 - true_positives: 111.0000 - true_negatives: 111.0000 - false_positives: 17.0000 - false_negatives: 17.0000\n",
      "Epoch 12: accuracy did not improve from 0.96875\n",
      " 5/10 [==============>...............] - ETA: 22s - loss: 0.3771 - accuracy: 0.8813 - recall: 0.8813 - true_positives: 141.0000 - true_negatives: 141.0000 - false_positives: 19.0000 - false_negatives: 19.0000\n",
      "Epoch 12: accuracy did not improve from 0.96875\n",
      " 6/10 [=================>............] - ETA: 16s - loss: 0.3320 - accuracy: 0.9010 - recall: 0.9010 - true_positives: 173.0000 - true_negatives: 173.0000 - false_positives: 19.0000 - false_negatives: 19.0000\n",
      "Epoch 12: accuracy did not improve from 0.96875\n",
      " 7/10 [====================>.........] - ETA: 12s - loss: 0.3290 - accuracy: 0.9018 - recall: 0.9018 - true_positives: 202.0000 - true_negatives: 202.0000 - false_positives: 22.0000 - false_negatives: 22.0000\n",
      "Epoch 12: accuracy did not improve from 0.96875\n",
      " 8/10 [=======================>......] - ETA: 8s - loss: 0.3448 - accuracy: 0.8945 - recall: 0.8945 - true_positives: 229.0000 - true_negatives: 229.0000 - false_positives: 27.0000 - false_negatives: 27.0000 \n",
      "Epoch 12: accuracy did not improve from 0.96875\n",
      " 9/10 [==========================>...] - ETA: 4s - loss: 0.3649 - accuracy: 0.8854 - recall: 0.8854 - true_positives: 255.0000 - true_negatives: 255.0000 - false_positives: 33.0000 - false_negatives: 33.0000\n",
      "Epoch 12: accuracy did not improve from 0.96875\n",
      "10/10 [==============================] - 59s 6s/step - loss: 0.3528 - accuracy: 0.8906 - recall: 0.8906 - true_positives: 285.0000 - true_negatives: 285.0000 - false_positives: 35.0000 - false_negatives: 35.0000 - val_loss: 0.3254 - val_accuracy: 0.9000 - val_recall: 0.9000 - val_true_positives: 288.0000 - val_true_negatives: 288.0000 - val_false_positives: 32.0000 - val_false_negatives: 32.0000\n",
      "Epoch 13/30\n",
      "\n",
      "Epoch 13: accuracy did not improve from 0.96875\n",
      " 1/10 [==>...........................] - ETA: 49s - loss: 0.2461 - accuracy: 0.9375 - recall: 0.9375 - true_positives: 30.0000 - true_negatives: 30.0000 - false_positives: 2.0000 - false_negatives: 2.0000\n",
      "Epoch 13: accuracy did not improve from 0.96875\n",
      " 2/10 [=====>........................] - ETA: 28s - loss: 0.3778 - accuracy: 0.8750 - recall: 0.8750 - true_positives: 56.0000 - true_negatives: 56.0000 - false_positives: 8.0000 - false_negatives: 8.0000\n",
      "Epoch 13: accuracy did not improve from 0.96875\n",
      " 3/10 [========>.....................] - ETA: 28s - loss: 0.3565 - accuracy: 0.8854 - recall: 0.8854 - true_positives: 85.0000 - true_negatives: 85.0000 - false_positives: 11.0000 - false_negatives: 11.0000\n",
      "Epoch 13: accuracy did not improve from 0.96875\n",
      " 4/10 [===========>..................] - ETA: 22s - loss: 0.3462 - accuracy: 0.8906 - recall: 0.8906 - true_positives: 114.0000 - true_negatives: 114.0000 - false_positives: 14.0000 - false_negatives: 14.0000\n",
      "Epoch 13: accuracy did not improve from 0.96875\n",
      " 5/10 [==============>...............] - ETA: 20s - loss: 0.3645 - accuracy: 0.8813 - recall: 0.8813 - true_positives: 141.0000 - true_negatives: 141.0000 - false_positives: 19.0000 - false_negatives: 19.0000\n",
      "Epoch 13: accuracy did not improve from 0.96875\n",
      " 6/10 [=================>............] - ETA: 16s - loss: 0.3665 - accuracy: 0.8802 - recall: 0.8802 - true_positives: 169.0000 - true_negatives: 169.0000 - false_positives: 23.0000 - false_negatives: 23.0000\n",
      "Epoch 13: accuracy did not improve from 0.96875\n",
      " 7/10 [====================>.........] - ETA: 11s - loss: 0.3680 - accuracy: 0.8795 - recall: 0.8795 - true_positives: 197.0000 - true_negatives: 197.0000 - false_positives: 27.0000 - false_negatives: 27.0000\n",
      "Epoch 13: accuracy did not improve from 0.96875\n",
      " 8/10 [=======================>......] - ETA: 8s - loss: 0.3692 - accuracy: 0.8789 - recall: 0.8789 - true_positives: 225.0000 - true_negatives: 225.0000 - false_positives: 31.0000 - false_negatives: 31.0000 \n",
      "Epoch 13: accuracy did not improve from 0.96875\n",
      " 9/10 [==========================>...] - ETA: 4s - loss: 0.3828 - accuracy: 0.8715 - recall: 0.8715 - true_positives: 251.0000 - true_negatives: 251.0000 - false_positives: 37.0000 - false_negatives: 37.0000\n",
      "Epoch 13: accuracy did not improve from 0.96875\n",
      "10/10 [==============================] - 57s 6s/step - loss: 0.3657 - accuracy: 0.8813 - recall: 0.8813 - true_positives: 282.0000 - true_negatives: 282.0000 - false_positives: 38.0000 - false_negatives: 38.0000 - val_loss: 0.4061 - val_accuracy: 0.8594 - val_recall: 0.8594 - val_true_positives: 275.0000 - val_true_negatives: 275.0000 - val_false_positives: 45.0000 - val_false_negatives: 45.0000\n",
      "Epoch 14/30\n",
      "\n",
      "Epoch 14: accuracy did not improve from 0.96875\n",
      " 1/10 [==>...........................] - ETA: 41s - loss: 0.3777 - accuracy: 0.8750 - recall: 0.8750 - true_positives: 28.0000 - true_negatives: 28.0000 - false_positives: 4.0000 - false_negatives: 4.0000\n",
      "Epoch 14: accuracy did not improve from 0.96875\n",
      " 2/10 [=====>........................] - ETA: 33s - loss: 0.3484 - accuracy: 0.8906 - recall: 0.8906 - true_positives: 57.0000 - true_negatives: 57.0000 - false_positives: 7.0000 - false_negatives: 7.0000\n",
      "Epoch 14: accuracy did not improve from 0.96875\n",
      " 3/10 [========>.....................] - ETA: 31s - loss: 0.3176 - accuracy: 0.9062 - recall: 0.9062 - true_positives: 87.0000 - true_negatives: 87.0000 - false_positives: 9.0000 - false_negatives: 9.0000\n",
      "Epoch 14: accuracy did not improve from 0.96875\n",
      " 4/10 [===========>..................] - ETA: 25s - loss: 0.2684 - accuracy: 0.9297 - recall: 0.9297 - true_positives: 119.0000 - true_negatives: 119.0000 - false_positives: 9.0000 - false_negatives: 9.0000\n",
      "Epoch 14: accuracy did not improve from 0.96875\n",
      " 5/10 [==============>...............] - ETA: 21s - loss: 0.2769 - accuracy: 0.9250 - recall: 0.9250 - true_positives: 148.0000 - true_negatives: 148.0000 - false_positives: 12.0000 - false_negatives: 12.0000\n",
      "Epoch 14: accuracy did not improve from 0.96875\n",
      " 6/10 [=================>............] - ETA: 18s - loss: 0.2959 - accuracy: 0.9167 - recall: 0.9167 - true_positives: 176.0000 - true_negatives: 176.0000 - false_positives: 16.0000 - false_negatives: 16.0000\n",
      "Epoch 14: accuracy did not improve from 0.96875\n",
      " 7/10 [====================>.........] - ETA: 13s - loss: 0.2988 - accuracy: 0.9152 - recall: 0.9152 - true_positives: 205.0000 - true_negatives: 205.0000 - false_positives: 19.0000 - false_negatives: 19.0000\n",
      "Epoch 14: accuracy did not improve from 0.96875\n",
      " 8/10 [=======================>......] - ETA: 8s - loss: 0.2907 - accuracy: 0.9180 - recall: 0.9180 - true_positives: 235.0000 - true_negatives: 235.0000 - false_positives: 21.0000 - false_negatives: 21.0000 \n",
      "Epoch 14: accuracy did not improve from 0.96875\n",
      " 9/10 [==========================>...] - ETA: 4s - loss: 0.3334 - accuracy: 0.9028 - recall: 0.9028 - true_positives: 260.0000 - true_negatives: 260.0000 - false_positives: 28.0000 - false_negatives: 28.0000\n",
      "Epoch 14: accuracy did not improve from 0.96875\n",
      "10/10 [==============================] - 58s 6s/step - loss: 0.3318 - accuracy: 0.9031 - recall: 0.9031 - true_positives: 289.0000 - true_negatives: 289.0000 - false_positives: 31.0000 - false_negatives: 31.0000 - val_loss: 0.3520 - val_accuracy: 0.8906 - val_recall: 0.8906 - val_true_positives: 285.0000 - val_true_negatives: 285.0000 - val_false_positives: 35.0000 - val_false_negatives: 35.0000\n",
      "Epoch 15/30\n",
      "\n",
      "Epoch 15: accuracy did not improve from 0.96875\n",
      " 1/10 [==>...........................] - ETA: 39s - loss: 0.3909 - accuracy: 0.8750 - recall: 0.8750 - true_positives: 28.0000 - true_negatives: 28.0000 - false_positives: 4.0000 - false_negatives: 4.0000\n",
      "Epoch 15: accuracy did not improve from 0.96875\n",
      " 2/10 [=====>........................] - ETA: 34s - loss: 0.4584 - accuracy: 0.8438 - recall: 0.8438 - true_positives: 54.0000 - true_negatives: 54.0000 - false_positives: 10.0000 - false_negatives: 10.0000\n",
      "Epoch 15: accuracy did not improve from 0.96875\n",
      " 3/10 [========>.....................] - ETA: 29s - loss: 0.4737 - accuracy: 0.8333 - recall: 0.8333 - true_positives: 80.0000 - true_negatives: 80.0000 - false_positives: 16.0000 - false_negatives: 16.0000\n",
      "Epoch 15: accuracy did not improve from 0.96875\n",
      " 4/10 [===========>..................] - ETA: 22s - loss: 0.4222 - accuracy: 0.8594 - recall: 0.8594 - true_positives: 110.0000 - true_negatives: 110.0000 - false_positives: 18.0000 - false_negatives: 18.0000\n",
      "Epoch 15: accuracy did not improve from 0.96875\n",
      " 5/10 [==============>...............] - ETA: 19s - loss: 0.4043 - accuracy: 0.8687 - recall: 0.8687 - true_positives: 139.0000 - true_negatives: 139.0000 - false_positives: 21.0000 - false_negatives: 21.0000\n",
      "Epoch 15: accuracy did not improve from 0.96875\n",
      " 6/10 [=================>............] - ETA: 15s - loss: 0.4016 - accuracy: 0.8698 - recall: 0.8698 - true_positives: 167.0000 - true_negatives: 167.0000 - false_positives: 25.0000 - false_negatives: 25.0000\n",
      "Epoch 15: accuracy did not improve from 0.96875\n",
      " 7/10 [====================>.........] - ETA: 12s - loss: 0.4001 - accuracy: 0.8705 - recall: 0.8705 - true_positives: 195.0000 - true_negatives: 195.0000 - false_positives: 29.0000 - false_negatives: 29.0000\n",
      "Epoch 15: accuracy did not improve from 0.96875\n",
      " 8/10 [=======================>......] - ETA: 8s - loss: 0.3877 - accuracy: 0.8789 - recall: 0.8789 - true_positives: 225.0000 - true_negatives: 225.0000 - false_positives: 31.0000 - false_negatives: 31.0000 \n",
      "Epoch 15: accuracy did not improve from 0.96875\n",
      " 9/10 [==========================>...] - ETA: 4s - loss: 0.3827 - accuracy: 0.8819 - recall: 0.8819 - true_positives: 254.0000 - true_negatives: 254.0000 - false_positives: 34.0000 - false_negatives: 34.0000\n",
      "Epoch 15: accuracy did not improve from 0.96875\n",
      "10/10 [==============================] - 56s 6s/step - loss: 0.3679 - accuracy: 0.8906 - recall: 0.8906 - true_positives: 285.0000 - true_negatives: 285.0000 - false_positives: 35.0000 - false_negatives: 35.0000 - val_loss: 0.3843 - val_accuracy: 0.8719 - val_recall: 0.8719 - val_true_positives: 279.0000 - val_true_negatives: 279.0000 - val_false_positives: 41.0000 - val_false_negatives: 41.0000\n",
      "Epoch 16/30\n",
      "\n",
      "Epoch 16: accuracy did not improve from 0.96875\n",
      " 1/10 [==>...........................] - ETA: 56s - loss: 0.4337 - accuracy: 0.8438 - recall: 0.8438 - true_positives: 27.0000 - true_negatives: 27.0000 - false_positives: 5.0000 - false_negatives: 5.0000\n",
      "Epoch 16: accuracy did not improve from 0.96875\n",
      " 2/10 [=====>........................] - ETA: 37s - loss: 0.4652 - accuracy: 0.8281 - recall: 0.8281 - true_positives: 53.0000 - true_negatives: 53.0000 - false_positives: 11.0000 - false_negatives: 11.0000\n",
      "Epoch 16: accuracy did not improve from 0.96875\n",
      " 3/10 [========>.....................] - ETA: 28s - loss: 0.4568 - accuracy: 0.8333 - recall: 0.8333 - true_positives: 80.0000 - true_negatives: 80.0000 - false_positives: 16.0000 - false_negatives: 16.0000\n",
      "Epoch 16: accuracy did not improve from 0.96875\n",
      " 4/10 [===========>..................] - ETA: 24s - loss: 0.4208 - accuracy: 0.8516 - recall: 0.8516 - true_positives: 109.0000 - true_negatives: 109.0000 - false_positives: 19.0000 - false_negatives: 19.0000\n",
      "Epoch 16: accuracy did not improve from 0.96875\n",
      " 5/10 [==============>...............] - ETA: 20s - loss: 0.3857 - accuracy: 0.8687 - recall: 0.8687 - true_positives: 139.0000 - true_negatives: 139.0000 - false_positives: 21.0000 - false_negatives: 21.0000\n",
      "Epoch 16: accuracy did not improve from 0.96875\n",
      " 6/10 [=================>............] - ETA: 16s - loss: 0.3616 - accuracy: 0.8802 - recall: 0.8802 - true_positives: 169.0000 - true_negatives: 169.0000 - false_positives: 23.0000 - false_negatives: 23.0000\n",
      "Epoch 16: accuracy did not improve from 0.96875\n",
      " 7/10 [====================>.........] - ETA: 12s - loss: 0.3438 - accuracy: 0.8884 - recall: 0.8884 - true_positives: 199.0000 - true_negatives: 199.0000 - false_positives: 25.0000 - false_negatives: 25.0000\n",
      "Epoch 16: accuracy did not improve from 0.96875\n",
      " 8/10 [=======================>......] - ETA: 8s - loss: 0.3203 - accuracy: 0.8984 - recall: 0.8984 - true_positives: 230.0000 - true_negatives: 230.0000 - false_positives: 26.0000 - false_negatives: 26.0000 \n",
      "Epoch 16: accuracy did not improve from 0.96875\n",
      " 9/10 [==========================>...] - ETA: 4s - loss: 0.3488 - accuracy: 0.8889 - recall: 0.8889 - true_positives: 256.0000 - true_negatives: 256.0000 - false_positives: 32.0000 - false_negatives: 32.0000\n",
      "Epoch 16: accuracy did not improve from 0.96875\n",
      "10/10 [==============================] - 58s 6s/step - loss: 0.3459 - accuracy: 0.8906 - recall: 0.8906 - true_positives: 285.0000 - true_negatives: 285.0000 - false_positives: 35.0000 - false_negatives: 35.0000 - val_loss: 0.4274 - val_accuracy: 0.8656 - val_recall: 0.8656 - val_true_positives: 277.0000 - val_true_negatives: 277.0000 - val_false_positives: 43.0000 - val_false_negatives: 43.0000\n",
      "Epoch 17/30\n",
      "\n",
      "Epoch 17: accuracy did not improve from 0.96875\n",
      " 1/10 [==>...........................] - ETA: 46s - loss: 0.3180 - accuracy: 0.9062 - recall: 0.9062 - true_positives: 29.0000 - true_negatives: 29.0000 - false_positives: 3.0000 - false_negatives: 3.0000\n",
      "Epoch 17: accuracy did not improve from 0.96875\n",
      " 2/10 [=====>........................] - ETA: 39s - loss: 0.3169 - accuracy: 0.9062 - recall: 0.9062 - true_positives: 58.0000 - true_negatives: 58.0000 - false_positives: 6.0000 - false_negatives: 6.0000\n",
      "Epoch 17: accuracy did not improve from 0.96875\n",
      " 3/10 [========>.....................] - ETA: 33s - loss: 0.3158 - accuracy: 0.9062 - recall: 0.9062 - true_positives: 87.0000 - true_negatives: 87.0000 - false_positives: 9.0000 - false_negatives: 9.0000\n",
      "Epoch 17: accuracy did not improve from 0.96875\n",
      " 4/10 [===========>..................] - ETA: 28s - loss: 0.3714 - accuracy: 0.8828 - recall: 0.8828 - true_positives: 113.0000 - true_negatives: 113.0000 - false_positives: 15.0000 - false_negatives: 15.0000\n",
      "Epoch 17: accuracy did not improve from 0.96875\n",
      " 5/10 [==============>...............] - ETA: 22s - loss: 0.3455 - accuracy: 0.8938 - recall: 0.8938 - true_positives: 143.0000 - true_negatives: 143.0000 - false_positives: 17.0000 - false_negatives: 17.0000\n",
      "Epoch 17: accuracy did not improve from 0.96875\n",
      " 6/10 [=================>............] - ETA: 17s - loss: 0.3291 - accuracy: 0.9010 - recall: 0.9010 - true_positives: 173.0000 - true_negatives: 173.0000 - false_positives: 19.0000 - false_negatives: 19.0000\n",
      "Epoch 17: accuracy did not improve from 0.96875\n",
      " 7/10 [====================>.........] - ETA: 12s - loss: 0.3089 - accuracy: 0.9107 - recall: 0.9107 - true_positives: 204.0000 - true_negatives: 204.0000 - false_positives: 20.0000 - false_negatives: 20.0000\n",
      "Epoch 17: accuracy did not improve from 0.96875\n",
      " 8/10 [=======================>......] - ETA: 7s - loss: 0.3253 - accuracy: 0.9023 - recall: 0.9023 - true_positives: 231.0000 - true_negatives: 231.0000 - false_positives: 25.0000 - false_negatives: 25.0000 \n",
      "Epoch 17: accuracy did not improve from 0.96875\n",
      " 9/10 [==========================>...] - ETA: 3s - loss: 0.3241 - accuracy: 0.9028 - recall: 0.9028 - true_positives: 260.0000 - true_negatives: 260.0000 - false_positives: 28.0000 - false_negatives: 28.0000\n",
      "Epoch 17: accuracy did not improve from 0.96875\n",
      "10/10 [==============================] - 53s 5s/step - loss: 0.3542 - accuracy: 0.8875 - recall: 0.8875 - true_positives: 284.0000 - true_negatives: 284.0000 - false_positives: 36.0000 - false_negatives: 36.0000 - val_loss: 0.4183 - val_accuracy: 0.8531 - val_recall: 0.8531 - val_true_positives: 273.0000 - val_true_negatives: 273.0000 - val_false_positives: 47.0000 - val_false_negatives: 47.0000\n",
      "Epoch 18/30\n",
      "\n",
      "Epoch 18: accuracy did not improve from 0.96875\n",
      " 1/10 [==>...........................] - ETA: 49s - loss: 0.6719 - accuracy: 0.7188 - recall: 0.7188 - true_positives: 23.0000 - true_negatives: 23.0000 - false_positives: 9.0000 - false_negatives: 9.0000\n",
      "Epoch 18: accuracy did not improve from 0.96875\n",
      " 2/10 [=====>........................] - ETA: 31s - loss: 0.4456 - accuracy: 0.8438 - recall: 0.8438 - true_positives: 54.0000 - true_negatives: 54.0000 - false_positives: 10.0000 - false_negatives: 10.0000\n",
      "Epoch 18: accuracy did not improve from 0.96875\n",
      " 3/10 [========>.....................] - ETA: 26s - loss: 0.3565 - accuracy: 0.8958 - recall: 0.8958 - true_positives: 86.0000 - true_negatives: 86.0000 - false_positives: 10.0000 - false_negatives: 10.0000\n",
      "Epoch 18: accuracy did not improve from 0.96875\n",
      " 4/10 [===========>..................] - ETA: 26s - loss: 0.3887 - accuracy: 0.8750 - recall: 0.8750 - true_positives: 112.0000 - true_negatives: 112.0000 - false_positives: 16.0000 - false_negatives: 16.0000\n",
      "Epoch 18: accuracy did not improve from 0.96875\n",
      " 5/10 [==============>...............] - ETA: 21s - loss: 0.3667 - accuracy: 0.8875 - recall: 0.8875 - true_positives: 142.0000 - true_negatives: 142.0000 - false_positives: 18.0000 - false_negatives: 18.0000\n",
      "Epoch 18: accuracy did not improve from 0.96875\n",
      " 6/10 [=================>............] - ETA: 16s - loss: 0.3778 - accuracy: 0.8802 - recall: 0.8802 - true_positives: 169.0000 - true_negatives: 169.0000 - false_positives: 23.0000 - false_negatives: 23.0000\n",
      "Epoch 18: accuracy did not improve from 0.96875\n",
      " 7/10 [====================>.........] - ETA: 12s - loss: 0.3702 - accuracy: 0.8839 - recall: 0.8839 - true_positives: 198.0000 - true_negatives: 198.0000 - false_positives: 26.0000 - false_negatives: 26.0000\n",
      "Epoch 18: accuracy did not improve from 0.96875\n",
      " 8/10 [=======================>......] - ETA: 8s - loss: 0.3783 - accuracy: 0.8789 - recall: 0.8789 - true_positives: 225.0000 - true_negatives: 225.0000 - false_positives: 31.0000 - false_negatives: 31.0000 \n",
      "Epoch 18: accuracy did not improve from 0.96875\n",
      " 9/10 [==========================>...] - ETA: 4s - loss: 0.3846 - accuracy: 0.8750 - recall: 0.8750 - true_positives: 252.0000 - true_negatives: 252.0000 - false_positives: 36.0000 - false_negatives: 36.0000\n",
      "Epoch 18: accuracy did not improve from 0.96875\n",
      "10/10 [==============================] - 53s 5s/step - loss: 0.3839 - accuracy: 0.8750 - recall: 0.8750 - true_positives: 280.0000 - true_negatives: 280.0000 - false_positives: 40.0000 - false_negatives: 40.0000 - val_loss: 0.3951 - val_accuracy: 0.8656 - val_recall: 0.8656 - val_true_positives: 277.0000 - val_true_negatives: 277.0000 - val_false_positives: 43.0000 - val_false_negatives: 43.0000\n",
      "Epoch 19/30\n",
      "\n",
      "Epoch 19: accuracy did not improve from 0.96875\n",
      " 1/10 [==>...........................] - ETA: 46s - loss: 0.3768 - accuracy: 0.8750 - recall: 0.8750 - true_positives: 28.0000 - true_negatives: 28.0000 - false_positives: 4.0000 - false_negatives: 4.0000\n",
      "Epoch 19: accuracy did not improve from 0.96875\n",
      " 2/10 [=====>........................] - ETA: 35s - loss: 0.3458 - accuracy: 0.8906 - recall: 0.8906 - true_positives: 57.0000 - true_negatives: 57.0000 - false_positives: 7.0000 - false_negatives: 7.0000\n",
      "Epoch 19: accuracy did not improve from 0.96875\n",
      " 3/10 [========>.....................] - ETA: 29s - loss: 0.3351 - accuracy: 0.8958 - recall: 0.8958 - true_positives: 86.0000 - true_negatives: 86.0000 - false_positives: 10.0000 - false_negatives: 10.0000\n",
      "Epoch 19: accuracy did not improve from 0.96875\n",
      " 4/10 [===========>..................] - ETA: 24s - loss: 0.3458 - accuracy: 0.8906 - recall: 0.8906 - true_positives: 114.0000 - true_negatives: 114.0000 - false_positives: 14.0000 - false_negatives: 14.0000\n",
      "Epoch 19: accuracy did not improve from 0.96875\n",
      " 5/10 [==============>...............] - ETA: 20s - loss: 0.3524 - accuracy: 0.8875 - recall: 0.8875 - true_positives: 142.0000 - true_negatives: 142.0000 - false_positives: 18.0000 - false_negatives: 18.0000\n",
      "Epoch 19: accuracy did not improve from 0.96875\n",
      " 6/10 [=================>............] - ETA: 16s - loss: 0.3568 - accuracy: 0.8854 - recall: 0.8854 - true_positives: 170.0000 - true_negatives: 170.0000 - false_positives: 22.0000 - false_negatives: 22.0000\n",
      "Epoch 19: accuracy did not improve from 0.96875\n",
      " 7/10 [====================>.........] - ETA: 12s - loss: 0.3407 - accuracy: 0.8929 - recall: 0.8929 - true_positives: 200.0000 - true_negatives: 200.0000 - false_positives: 24.0000 - false_negatives: 24.0000\n",
      "Epoch 19: accuracy did not improve from 0.96875\n",
      " 8/10 [=======================>......] - ETA: 8s - loss: 0.3198 - accuracy: 0.9023 - recall: 0.9023 - true_positives: 231.0000 - true_negatives: 231.0000 - false_positives: 25.0000 - false_negatives: 25.0000 \n",
      "Epoch 19: accuracy did not improve from 0.96875\n",
      " 9/10 [==========================>...] - ETA: 4s - loss: 0.3268 - accuracy: 0.8993 - recall: 0.8993 - true_positives: 259.0000 - true_negatives: 259.0000 - false_positives: 29.0000 - false_negatives: 29.0000\n",
      "Epoch 19: accuracy did not improve from 0.96875\n",
      "10/10 [==============================] - 52s 5s/step - loss: 0.3106 - accuracy: 0.9062 - recall: 0.9062 - true_positives: 290.0000 - true_negatives: 290.0000 - false_positives: 30.0000 - false_negatives: 30.0000 - val_loss: 0.3736 - val_accuracy: 0.8813 - val_recall: 0.8813 - val_true_positives: 282.0000 - val_true_negatives: 282.0000 - val_false_positives: 38.0000 - val_false_negatives: 38.0000\n",
      "Epoch 20/30\n",
      "\n",
      "Epoch 20: accuracy did not improve from 0.96875\n",
      " 1/10 [==>...........................] - ETA: 38s - loss: 0.2360 - accuracy: 0.9375 - recall: 0.9375 - true_positives: 30.0000 - true_negatives: 30.0000 - false_positives: 2.0000 - false_negatives: 2.0000\n",
      "Epoch 20: accuracy did not improve from 0.96875\n",
      " 2/10 [=====>........................] - ETA: 40s - loss: 0.3550 - accuracy: 0.8906 - recall: 0.8906 - true_positives: 57.0000 - true_negatives: 57.0000 - false_positives: 7.0000 - false_negatives: 7.0000\n",
      "Epoch 20: accuracy did not improve from 0.96875\n",
      " 3/10 [========>.....................] - ETA: 30s - loss: 0.3148 - accuracy: 0.9062 - recall: 0.9062 - true_positives: 87.0000 - true_negatives: 87.0000 - false_positives: 9.0000 - false_negatives: 9.0000\n",
      "Epoch 20: accuracy did not improve from 0.96875\n",
      " 4/10 [===========>..................] - ETA: 24s - loss: 0.3756 - accuracy: 0.8828 - recall: 0.8828 - true_positives: 113.0000 - true_negatives: 113.0000 - false_positives: 15.0000 - false_negatives: 15.0000\n",
      "Epoch 20: accuracy did not improve from 0.96875\n",
      " 5/10 [==============>...............] - ETA: 21s - loss: 0.3320 - accuracy: 0.9000 - recall: 0.9000 - true_positives: 144.0000 - true_negatives: 144.0000 - false_positives: 16.0000 - false_negatives: 16.0000\n",
      "Epoch 20: accuracy did not improve from 0.96875\n",
      " 6/10 [=================>............] - ETA: 16s - loss: 0.3542 - accuracy: 0.8906 - recall: 0.8906 - true_positives: 171.0000 - true_negatives: 171.0000 - false_positives: 21.0000 - false_negatives: 21.0000\n",
      "Epoch 20: accuracy did not improve from 0.96875\n",
      " 7/10 [====================>.........] - ETA: 12s - loss: 0.3376 - accuracy: 0.8973 - recall: 0.8973 - true_positives: 201.0000 - true_negatives: 201.0000 - false_positives: 23.0000 - false_negatives: 23.0000\n",
      "Epoch 20: accuracy did not improve from 0.96875\n",
      " 8/10 [=======================>......] - ETA: 8s - loss: 0.3166 - accuracy: 0.9062 - recall: 0.9062 - true_positives: 232.0000 - true_negatives: 232.0000 - false_positives: 24.0000 - false_negatives: 24.0000 \n",
      "Epoch 20: accuracy did not improve from 0.96875\n",
      " 9/10 [==========================>...] - ETA: 4s - loss: 0.3238 - accuracy: 0.9028 - recall: 0.9028 - true_positives: 260.0000 - true_negatives: 260.0000 - false_positives: 28.0000 - false_negatives: 28.0000\n",
      "Epoch 20: accuracy did not improve from 0.96875\n",
      "10/10 [==============================] - 54s 6s/step - loss: 0.3295 - accuracy: 0.9000 - recall: 0.9000 - true_positives: 288.0000 - true_negatives: 288.0000 - false_positives: 32.0000 - false_negatives: 32.0000 - val_loss: 0.3792 - val_accuracy: 0.8750 - val_recall: 0.8750 - val_true_positives: 280.0000 - val_true_negatives: 280.0000 - val_false_positives: 40.0000 - val_false_negatives: 40.0000\n",
      "Epoch 21/30\n",
      "\n",
      "Epoch 21: accuracy did not improve from 0.96875\n",
      " 1/10 [==>...........................] - ETA: 45s - loss: 0.2440 - accuracy: 0.9375 - recall: 0.9375 - true_positives: 30.0000 - true_negatives: 30.0000 - false_positives: 2.0000 - false_negatives: 2.0000\n",
      "Epoch 21: accuracy did not improve from 0.96875\n",
      " 2/10 [=====>........................] - ETA: 39s - loss: 0.2779 - accuracy: 0.9219 - recall: 0.9219 - true_positives: 59.0000 - true_negatives: 59.0000 - false_positives: 5.0000 - false_negatives: 5.0000\n",
      "Epoch 21: accuracy did not improve from 0.96875\n",
      " 3/10 [========>.....................] - ETA: 29s - loss: 0.2669 - accuracy: 0.9271 - recall: 0.9271 - true_positives: 89.0000 - true_negatives: 89.0000 - false_positives: 7.0000 - false_negatives: 7.0000\n",
      "Epoch 21: accuracy did not improve from 0.96875\n",
      " 4/10 [===========>..................] - ETA: 24s - loss: 0.3119 - accuracy: 0.9062 - recall: 0.9062 - true_positives: 116.0000 - true_negatives: 116.0000 - false_positives: 12.0000 - false_negatives: 12.0000\n",
      "Epoch 21: accuracy did not improve from 0.96875\n",
      " 5/10 [==============>...............] - ETA: 19s - loss: 0.2850 - accuracy: 0.9187 - recall: 0.9187 - true_positives: 147.0000 - true_negatives: 147.0000 - false_positives: 13.0000 - false_negatives: 13.0000\n",
      "Epoch 21: accuracy did not improve from 0.96875\n",
      " 6/10 [=================>............] - ETA: 15s - loss: 0.3122 - accuracy: 0.9062 - recall: 0.9062 - true_positives: 174.0000 - true_negatives: 174.0000 - false_positives: 18.0000 - false_negatives: 18.0000\n",
      "Epoch 21: accuracy did not improve from 0.96875\n",
      " 7/10 [====================>.........] - ETA: 11s - loss: 0.3024 - accuracy: 0.9107 - recall: 0.9107 - true_positives: 204.0000 - true_negatives: 204.0000 - false_positives: 20.0000 - false_negatives: 20.0000\n",
      "Epoch 21: accuracy did not improve from 0.96875\n",
      " 8/10 [=======================>......] - ETA: 8s - loss: 0.3294 - accuracy: 0.8984 - recall: 0.8984 - true_positives: 230.0000 - true_negatives: 230.0000 - false_positives: 26.0000 - false_negatives: 26.0000 \n",
      "Epoch 21: accuracy did not improve from 0.96875\n",
      " 9/10 [==========================>...] - ETA: 4s - loss: 0.3274 - accuracy: 0.8993 - recall: 0.8993 - true_positives: 259.0000 - true_negatives: 259.0000 - false_positives: 29.0000 - false_negatives: 29.0000\n",
      "Epoch 21: accuracy did not improve from 0.96875\n",
      "10/10 [==============================] - 51s 5s/step - loss: 0.3192 - accuracy: 0.9031 - recall: 0.9031 - true_positives: 289.0000 - true_negatives: 289.0000 - false_positives: 31.0000 - false_negatives: 31.0000 - val_loss: 0.3851 - val_accuracy: 0.8719 - val_recall: 0.8719 - val_true_positives: 279.0000 - val_true_negatives: 279.0000 - val_false_positives: 41.0000 - val_false_negatives: 41.0000\n",
      "Epoch 22/30\n",
      "\n",
      "Epoch 22: accuracy did not improve from 0.96875\n",
      " 1/10 [==>...........................] - ETA: 44s - loss: 0.1791 - accuracy: 0.9688 - recall: 0.9688 - true_positives: 31.0000 - true_negatives: 31.0000 - false_positives: 1.0000 - false_negatives: 1.0000\n",
      "Epoch 22: accuracy did not improve from 0.96875\n",
      " 2/10 [=====>........................] - ETA: 27s - loss: 0.2111 - accuracy: 0.9531 - recall: 0.9531 - true_positives: 61.0000 - true_negatives: 61.0000 - false_positives: 3.0000 - false_negatives: 3.0000\n",
      "Epoch 22: accuracy did not improve from 0.96875\n",
      " 3/10 [========>.....................] - ETA: 25s - loss: 0.3154 - accuracy: 0.9062 - recall: 0.9062 - true_positives: 87.0000 - true_negatives: 87.0000 - false_positives: 9.0000 - false_negatives: 9.0000\n",
      "Epoch 22: accuracy did not improve from 0.96875\n",
      " 4/10 [===========>..................] - ETA: 22s - loss: 0.2966 - accuracy: 0.9141 - recall: 0.9141 - true_positives: 117.0000 - true_negatives: 117.0000 - false_positives: 11.0000 - false_negatives: 11.0000\n",
      "Epoch 22: accuracy did not improve from 0.96875\n",
      " 5/10 [==============>...............] - ETA: 19s - loss: 0.3569 - accuracy: 0.8875 - recall: 0.8875 - true_positives: 142.0000 - true_negatives: 142.0000 - false_positives: 18.0000 - false_negatives: 18.0000\n",
      "Epoch 22: accuracy did not improve from 0.96875\n",
      " 6/10 [=================>............] - ETA: 15s - loss: 0.3723 - accuracy: 0.8802 - recall: 0.8802 - true_positives: 169.0000 - true_negatives: 169.0000 - false_positives: 23.0000 - false_negatives: 23.0000\n",
      "Epoch 22: accuracy did not improve from 0.96875\n",
      " 7/10 [====================>.........] - ETA: 11s - loss: 0.3731 - accuracy: 0.8795 - recall: 0.8795 - true_positives: 197.0000 - true_negatives: 197.0000 - false_positives: 27.0000 - false_negatives: 27.0000\n",
      "Epoch 22: accuracy did not improve from 0.96875\n",
      " 8/10 [=======================>......] - ETA: 7s - loss: 0.3503 - accuracy: 0.8906 - recall: 0.8906 - true_positives: 228.0000 - true_negatives: 228.0000 - false_positives: 28.0000 - false_negatives: 28.0000 \n",
      "Epoch 22: accuracy did not improve from 0.96875\n",
      " 9/10 [==========================>...] - ETA: 3s - loss: 0.3533 - accuracy: 0.8889 - recall: 0.8889 - true_positives: 256.0000 - true_negatives: 256.0000 - false_positives: 32.0000 - false_negatives: 32.0000\n",
      "Epoch 22: accuracy did not improve from 0.96875\n",
      "10/10 [==============================] - 49s 5s/step - loss: 0.3556 - accuracy: 0.8875 - recall: 0.8875 - true_positives: 284.0000 - true_negatives: 284.0000 - false_positives: 36.0000 - false_negatives: 36.0000 - val_loss: 0.3652 - val_accuracy: 0.8813 - val_recall: 0.8813 - val_true_positives: 282.0000 - val_true_negatives: 282.0000 - val_false_positives: 38.0000 - val_false_negatives: 38.0000\n",
      "Epoch 23/30\n",
      "\n",
      "Epoch 23: accuracy did not improve from 0.96875\n",
      " 1/10 [==>...........................] - ETA: 37s - loss: 0.2592 - accuracy: 0.9375 - recall: 0.9375 - true_positives: 30.0000 - true_negatives: 30.0000 - false_positives: 2.0000 - false_negatives: 2.0000\n",
      "Epoch 23: accuracy did not improve from 0.96875\n",
      " 2/10 [=====>........................] - ETA: 23s - loss: 0.3180 - accuracy: 0.9062 - recall: 0.9062 - true_positives: 58.0000 - true_negatives: 58.0000 - false_positives: 6.0000 - false_negatives: 6.0000\n",
      "Epoch 23: accuracy did not improve from 0.96875\n",
      " 3/10 [========>.....................] - ETA: 26s - loss: 0.3376 - accuracy: 0.8958 - recall: 0.8958 - true_positives: 86.0000 - true_negatives: 86.0000 - false_positives: 10.0000 - false_negatives: 10.0000\n",
      "Epoch 23: accuracy did not improve from 0.96875\n",
      " 4/10 [===========>..................] - ETA: 22s - loss: 0.3626 - accuracy: 0.8828 - recall: 0.8828 - true_positives: 113.0000 - true_negatives: 113.0000 - false_positives: 15.0000 - false_negatives: 15.0000\n",
      "Epoch 23: accuracy did not improve from 0.96875\n",
      " 5/10 [==============>...............] - ETA: 18s - loss: 0.3654 - accuracy: 0.8813 - recall: 0.8813 - true_positives: 141.0000 - true_negatives: 141.0000 - false_positives: 19.0000 - false_negatives: 19.0000\n",
      "Epoch 23: accuracy did not improve from 0.96875\n",
      " 6/10 [=================>............] - ETA: 14s - loss: 0.3673 - accuracy: 0.8802 - recall: 0.8802 - true_positives: 169.0000 - true_negatives: 169.0000 - false_positives: 23.0000 - false_negatives: 23.0000\n",
      "Epoch 23: accuracy did not improve from 0.96875\n",
      " 7/10 [====================>.........] - ETA: 11s - loss: 0.3427 - accuracy: 0.8929 - recall: 0.8929 - true_positives: 200.0000 - true_negatives: 200.0000 - false_positives: 24.0000 - false_negatives: 24.0000\n",
      "Epoch 23: accuracy did not improve from 0.96875\n",
      " 8/10 [=======================>......] - ETA: 7s - loss: 0.3314 - accuracy: 0.8984 - recall: 0.8984 - true_positives: 230.0000 - true_negatives: 230.0000 - false_positives: 26.0000 - false_negatives: 26.0000 \n",
      "Epoch 23: accuracy did not improve from 0.96875\n",
      " 9/10 [==========================>...] - ETA: 3s - loss: 0.3438 - accuracy: 0.8924 - recall: 0.8924 - true_positives: 257.0000 - true_negatives: 257.0000 - false_positives: 31.0000 - false_negatives: 31.0000\n",
      "Epoch 23: accuracy did not improve from 0.96875\n",
      "10/10 [==============================] - 44s 4s/step - loss: 0.3272 - accuracy: 0.9000 - recall: 0.9000 - true_positives: 288.0000 - true_negatives: 288.0000 - false_positives: 32.0000 - false_negatives: 32.0000 - val_loss: 0.5298 - val_accuracy: 0.8094 - val_recall: 0.8094 - val_true_positives: 259.0000 - val_true_negatives: 259.0000 - val_false_positives: 61.0000 - val_false_negatives: 61.0000\n",
      "Epoch 24/30\n",
      "\n",
      "Epoch 24: accuracy did not improve from 0.96875\n",
      " 1/10 [==>...........................] - ETA: 39s - loss: 0.3111 - accuracy: 0.9062 - recall: 0.9062 - true_positives: 29.0000 - true_negatives: 29.0000 - false_positives: 3.0000 - false_negatives: 3.0000\n",
      "Epoch 24: accuracy did not improve from 0.96875\n",
      " 2/10 [=====>........................] - ETA: 27s - loss: 0.2008 - accuracy: 0.9531 - recall: 0.9531 - true_positives: 61.0000 - true_negatives: 61.0000 - false_positives: 3.0000 - false_negatives: 3.0000\n",
      "Epoch 24: accuracy did not improve from 0.96875\n",
      " 3/10 [========>.....................] - ETA: 22s - loss: 0.2121 - accuracy: 0.9479 - recall: 0.9479 - true_positives: 91.0000 - true_negatives: 91.0000 - false_positives: 5.0000 - false_negatives: 5.0000\n",
      "Epoch 24: accuracy did not improve from 0.96875\n",
      " 4/10 [===========>..................] - ETA: 18s - loss: 0.2175 - accuracy: 0.9453 - recall: 0.9453 - true_positives: 121.0000 - true_negatives: 121.0000 - false_positives: 7.0000 - false_negatives: 7.0000\n",
      "Epoch 24: accuracy did not improve from 0.96875\n",
      " 5/10 [==============>...............] - ETA: 16s - loss: 0.3826 - accuracy: 0.8875 - recall: 0.8875 - true_positives: 142.0000 - true_negatives: 142.0000 - false_positives: 18.0000 - false_negatives: 18.0000\n",
      "Epoch 24: accuracy did not improve from 0.96875\n",
      " 6/10 [=================>............] - ETA: 13s - loss: 0.3999 - accuracy: 0.8802 - recall: 0.8802 - true_positives: 169.0000 - true_negatives: 169.0000 - false_positives: 23.0000 - false_negatives: 23.0000\n",
      "Epoch 24: accuracy did not improve from 0.96875\n",
      " 7/10 [====================>.........] - ETA: 10s - loss: 0.3874 - accuracy: 0.8839 - recall: 0.8839 - true_positives: 198.0000 - true_negatives: 198.0000 - false_positives: 26.0000 - false_negatives: 26.0000\n",
      "Epoch 24: accuracy did not improve from 0.96875\n",
      " 8/10 [=======================>......] - ETA: 6s - loss: 0.3953 - accuracy: 0.8789 - recall: 0.8789 - true_positives: 225.0000 - true_negatives: 225.0000 - false_positives: 31.0000 - false_negatives: 31.0000 \n",
      "Epoch 24: accuracy did not improve from 0.96875\n",
      " 9/10 [==========================>...] - ETA: 3s - loss: 0.3863 - accuracy: 0.8819 - recall: 0.8819 - true_positives: 254.0000 - true_negatives: 254.0000 - false_positives: 34.0000 - false_negatives: 34.0000\n",
      "Epoch 24: accuracy did not improve from 0.96875\n",
      "10/10 [==============================] - 42s 4s/step - loss: 0.3682 - accuracy: 0.8906 - recall: 0.8906 - true_positives: 285.0000 - true_negatives: 285.0000 - false_positives: 35.0000 - false_negatives: 35.0000 - val_loss: 0.3789 - val_accuracy: 0.8750 - val_recall: 0.8750 - val_true_positives: 280.0000 - val_true_negatives: 280.0000 - val_false_positives: 40.0000 - val_false_negatives: 40.0000\n",
      "Epoch 25/30\n",
      "\n",
      "Epoch 25: accuracy did not improve from 0.96875\n",
      " 1/10 [==>...........................] - ETA: 43s - loss: 0.3242 - accuracy: 0.9062 - recall: 0.9062 - true_positives: 29.0000 - true_negatives: 29.0000 - false_positives: 3.0000 - false_negatives: 3.0000\n",
      "Epoch 25: accuracy did not improve from 0.96875\n",
      " 2/10 [=====>........................] - ETA: 32s - loss: 0.3522 - accuracy: 0.8906 - recall: 0.8906 - true_positives: 57.0000 - true_negatives: 57.0000 - false_positives: 7.0000 - false_negatives: 7.0000\n",
      "Epoch 25: accuracy did not improve from 0.96875\n",
      " 3/10 [========>.....................] - ETA: 23s - loss: 0.3443 - accuracy: 0.8958 - recall: 0.8958 - true_positives: 86.0000 - true_negatives: 86.0000 - false_positives: 10.0000 - false_negatives: 10.0000\n",
      "Epoch 25: accuracy did not improve from 0.96875\n",
      " 4/10 [===========>..................] - ETA: 20s - loss: 0.3797 - accuracy: 0.8750 - recall: 0.8750 - true_positives: 112.0000 - true_negatives: 112.0000 - false_positives: 16.0000 - false_negatives: 16.0000\n",
      "Epoch 25: accuracy did not improve from 0.96875\n",
      " 5/10 [==============>...............] - ETA: 17s - loss: 0.3695 - accuracy: 0.8813 - recall: 0.8813 - true_positives: 141.0000 - true_negatives: 141.0000 - false_positives: 19.0000 - false_negatives: 19.0000\n",
      "Epoch 25: accuracy did not improve from 0.96875\n",
      " 6/10 [=================>............] - ETA: 14s - loss: 0.3802 - accuracy: 0.8750 - recall: 0.8750 - true_positives: 168.0000 - true_negatives: 168.0000 - false_positives: 24.0000 - false_negatives: 24.0000\n",
      "Epoch 25: accuracy did not improve from 0.96875\n",
      " 7/10 [====================>.........] - ETA: 10s - loss: 0.3647 - accuracy: 0.8839 - recall: 0.8839 - true_positives: 198.0000 - true_negatives: 198.0000 - false_positives: 26.0000 - false_negatives: 26.0000\n",
      "Epoch 25: accuracy did not improve from 0.96875\n",
      " 8/10 [=======================>......] - ETA: 7s - loss: 0.3804 - accuracy: 0.8750 - recall: 0.8750 - true_positives: 224.0000 - true_negatives: 224.0000 - false_positives: 32.0000 - false_negatives: 32.0000 \n",
      "Epoch 25: accuracy did not improve from 0.96875\n",
      " 9/10 [==========================>...] - ETA: 3s - loss: 0.3990 - accuracy: 0.8646 - recall: 0.8646 - true_positives: 249.0000 - true_negatives: 249.0000 - false_positives: 39.0000 - false_negatives: 39.0000\n",
      "Epoch 25: accuracy did not improve from 0.96875\n",
      "10/10 [==============================] - 43s 4s/step - loss: 0.3799 - accuracy: 0.8750 - recall: 0.8750 - true_positives: 280.0000 - true_negatives: 280.0000 - false_positives: 40.0000 - false_negatives: 40.0000 - val_loss: 0.3772 - val_accuracy: 0.8750 - val_recall: 0.8750 - val_true_positives: 280.0000 - val_true_negatives: 280.0000 - val_false_positives: 40.0000 - val_false_negatives: 40.0000\n",
      "Epoch 26/30\n",
      "\n",
      "Epoch 26: accuracy did not improve from 0.96875\n",
      " 1/10 [==>...........................] - ETA: 43s - loss: 0.2030 - accuracy: 0.9688 - recall: 0.9688 - true_positives: 31.0000 - true_negatives: 31.0000 - false_positives: 1.0000 - false_negatives: 1.0000\n",
      "Epoch 26: accuracy did not improve from 0.96875\n",
      " 2/10 [=====>........................] - ETA: 30s - loss: 0.3206 - accuracy: 0.9062 - recall: 0.9062 - true_positives: 58.0000 - true_negatives: 58.0000 - false_positives: 6.0000 - false_negatives: 6.0000\n",
      "Epoch 26: accuracy did not improve from 0.96875\n",
      " 3/10 [========>.....................] - ETA: 27s - loss: 0.2757 - accuracy: 0.9271 - recall: 0.9271 - true_positives: 89.0000 - true_negatives: 89.0000 - false_positives: 7.0000 - false_negatives: 7.0000\n",
      "Epoch 26: accuracy did not improve from 0.96875\n",
      " 4/10 [===========>..................] - ETA: 22s - loss: 0.3185 - accuracy: 0.9062 - recall: 0.9062 - true_positives: 116.0000 - true_negatives: 116.0000 - false_positives: 12.0000 - false_negatives: 12.0000\n",
      "Epoch 26: accuracy did not improve from 0.96875\n",
      " 5/10 [==============>...............] - ETA: 18s - loss: 0.3451 - accuracy: 0.8938 - recall: 0.8938 - true_positives: 143.0000 - true_negatives: 143.0000 - false_positives: 17.0000 - false_negatives: 17.0000\n",
      "Epoch 26: accuracy did not improve from 0.96875\n",
      " 6/10 [=================>............] - ETA: 14s - loss: 0.3513 - accuracy: 0.8906 - recall: 0.8906 - true_positives: 171.0000 - true_negatives: 171.0000 - false_positives: 21.0000 - false_negatives: 21.0000\n",
      "Epoch 26: accuracy did not improve from 0.96875\n",
      " 7/10 [====================>.........] - ETA: 10s - loss: 0.3760 - accuracy: 0.8795 - recall: 0.8795 - true_positives: 197.0000 - true_negatives: 197.0000 - false_positives: 27.0000 - false_negatives: 27.0000\n",
      "Epoch 26: accuracy did not improve from 0.96875\n",
      " 8/10 [=======================>......] - ETA: 6s - loss: 0.3507 - accuracy: 0.8906 - recall: 0.8906 - true_positives: 228.0000 - true_negatives: 228.0000 - false_positives: 28.0000 - false_negatives: 28.0000 \n",
      "Epoch 26: accuracy did not improve from 0.96875\n",
      " 9/10 [==========================>...] - ETA: 3s - loss: 0.3235 - accuracy: 0.9028 - recall: 0.9028 - true_positives: 260.0000 - true_negatives: 260.0000 - false_positives: 28.0000 - false_negatives: 28.0000\n",
      "Epoch 26: accuracy did not improve from 0.96875\n",
      "10/10 [==============================] - 43s 4s/step - loss: 0.3152 - accuracy: 0.9062 - recall: 0.9062 - true_positives: 290.0000 - true_negatives: 290.0000 - false_positives: 30.0000 - false_negatives: 30.0000 - val_loss: 0.3551 - val_accuracy: 0.8875 - val_recall: 0.8875 - val_true_positives: 284.0000 - val_true_negatives: 284.0000 - val_false_positives: 36.0000 - val_false_negatives: 36.0000\n",
      "Epoch 27/30\n",
      "\n",
      "Epoch 27: accuracy did not improve from 0.96875\n",
      " 1/10 [==>...........................] - ETA: 40s - loss: 0.3113 - accuracy: 0.9062 - recall: 0.9062 - true_positives: 29.0000 - true_negatives: 29.0000 - false_positives: 3.0000 - false_negatives: 3.0000\n",
      "Epoch 27: accuracy did not improve from 0.96875\n",
      " 2/10 [=====>........................] - ETA: 28s - loss: 0.3116 - accuracy: 0.9062 - recall: 0.9062 - true_positives: 58.0000 - true_negatives: 58.0000 - false_positives: 6.0000 - false_negatives: 6.0000\n",
      "Epoch 27: accuracy did not improve from 0.96875\n",
      " 3/10 [========>.....................] - ETA: 23s - loss: 0.3632 - accuracy: 0.8854 - recall: 0.8854 - true_positives: 85.0000 - true_negatives: 85.0000 - false_positives: 11.0000 - false_negatives: 11.0000\n",
      "Epoch 27: accuracy did not improve from 0.96875\n",
      " 4/10 [===========>..................] - ETA: 20s - loss: 0.3505 - accuracy: 0.8906 - recall: 0.8906 - true_positives: 114.0000 - true_negatives: 114.0000 - false_positives: 14.0000 - false_negatives: 14.0000\n",
      "Epoch 27: accuracy did not improve from 0.96875\n",
      " 5/10 [==============>...............] - ETA: 16s - loss: 0.3277 - accuracy: 0.9000 - recall: 0.9000 - true_positives: 144.0000 - true_negatives: 144.0000 - false_positives: 16.0000 - false_negatives: 16.0000\n",
      "Epoch 27: accuracy did not improve from 0.96875\n",
      " 6/10 [=================>............] - ETA: 13s - loss: 0.3251 - accuracy: 0.9010 - recall: 0.9010 - true_positives: 173.0000 - true_negatives: 173.0000 - false_positives: 19.0000 - false_negatives: 19.0000\n",
      "Epoch 27: accuracy did not improve from 0.96875\n",
      " 7/10 [====================>.........] - ETA: 10s - loss: 0.3339 - accuracy: 0.8973 - recall: 0.8973 - true_positives: 201.0000 - true_negatives: 201.0000 - false_positives: 23.0000 - false_negatives: 23.0000\n",
      "Epoch 27: accuracy did not improve from 0.96875\n",
      " 8/10 [=======================>......] - ETA: 7s - loss: 0.3586 - accuracy: 0.8867 - recall: 0.8867 - true_positives: 227.0000 - true_negatives: 227.0000 - false_positives: 29.0000 - false_negatives: 29.0000 \n",
      "Epoch 27: accuracy did not improve from 0.96875\n",
      " 9/10 [==========================>...] - ETA: 3s - loss: 0.3688 - accuracy: 0.8819 - recall: 0.8819 - true_positives: 254.0000 - true_negatives: 254.0000 - false_positives: 34.0000 - false_negatives: 34.0000\n",
      "Epoch 27: accuracy did not improve from 0.96875\n",
      "10/10 [==============================] - 41s 4s/step - loss: 0.3697 - accuracy: 0.8813 - recall: 0.8813 - true_positives: 282.0000 - true_negatives: 282.0000 - false_positives: 38.0000 - false_negatives: 38.0000 - val_loss: 0.3951 - val_accuracy: 0.8656 - val_recall: 0.8656 - val_true_positives: 277.0000 - val_true_negatives: 277.0000 - val_false_positives: 43.0000 - val_false_negatives: 43.0000\n",
      "Epoch 28/30\n",
      "\n",
      "Epoch 28: accuracy did not improve from 0.96875\n",
      " 1/10 [==>...........................] - ETA: 46s - loss: 0.3768 - accuracy: 0.8750 - recall: 0.8750 - true_positives: 28.0000 - true_negatives: 28.0000 - false_positives: 4.0000 - false_negatives: 4.0000\n",
      "Epoch 28: accuracy did not improve from 0.96875\n",
      " 2/10 [=====>........................] - ETA: 20s - loss: 0.4059 - accuracy: 0.8594 - recall: 0.8594 - true_positives: 55.0000 - true_negatives: 55.0000 - false_positives: 9.0000 - false_negatives: 9.0000\n",
      "Epoch 28: accuracy did not improve from 0.96875\n",
      " 3/10 [========>.....................] - ETA: 20s - loss: 0.4331 - accuracy: 0.8438 - recall: 0.8438 - true_positives: 81.0000 - true_negatives: 81.0000 - false_positives: 15.0000 - false_negatives: 15.0000\n",
      "Epoch 28: accuracy did not improve from 0.96875\n",
      " 4/10 [===========>..................] - ETA: 18s - loss: 0.4333 - accuracy: 0.8438 - recall: 0.8438 - true_positives: 108.0000 - true_negatives: 108.0000 - false_positives: 20.0000 - false_negatives: 20.0000\n",
      "Epoch 28: accuracy did not improve from 0.96875\n",
      " 5/10 [==============>...............] - ETA: 15s - loss: 0.4241 - accuracy: 0.8500 - recall: 0.8500 - true_positives: 136.0000 - true_negatives: 136.0000 - false_positives: 24.0000 - false_negatives: 24.0000\n",
      "Epoch 28: accuracy did not improve from 0.96875\n",
      " 6/10 [=================>............] - ETA: 12s - loss: 0.3955 - accuracy: 0.8698 - recall: 0.8698 - true_positives: 167.0000 - true_negatives: 167.0000 - false_positives: 25.0000 - false_negatives: 25.0000\n",
      "Epoch 28: accuracy did not improve from 0.96875\n",
      " 7/10 [====================>.........] - ETA: 9s - loss: 0.3881 - accuracy: 0.8750 - recall: 0.8750 - true_positives: 196.0000 - true_negatives: 196.0000 - false_positives: 28.0000 - false_negatives: 28.0000 \n",
      "Epoch 28: accuracy did not improve from 0.96875\n",
      " 8/10 [=======================>......] - ETA: 6s - loss: 0.3880 - accuracy: 0.8750 - recall: 0.8750 - true_positives: 224.0000 - true_negatives: 224.0000 - false_positives: 32.0000 - false_negatives: 32.0000\n",
      "Epoch 28: accuracy did not improve from 0.96875\n",
      " 9/10 [==========================>...] - ETA: 3s - loss: 0.3821 - accuracy: 0.8785 - recall: 0.8785 - true_positives: 253.0000 - true_negatives: 253.0000 - false_positives: 35.0000 - false_negatives: 35.0000\n",
      "Epoch 28: accuracy did not improve from 0.96875\n",
      "10/10 [==============================] - 41s 4s/step - loss: 0.3819 - accuracy: 0.8781 - recall: 0.8781 - true_positives: 281.0000 - true_negatives: 281.0000 - false_positives: 39.0000 - false_negatives: 39.0000 - val_loss: 0.4229 - val_accuracy: 0.8500 - val_recall: 0.8500 - val_true_positives: 272.0000 - val_true_negatives: 272.0000 - val_false_positives: 48.0000 - val_false_negatives: 48.0000\n",
      "Epoch 29/30\n",
      "\n",
      "Epoch 29: accuracy did not improve from 0.96875\n",
      " 1/10 [==>...........................] - ETA: 32s - loss: 0.2667 - accuracy: 0.9375 - recall: 0.9375 - true_positives: 30.0000 - true_negatives: 30.0000 - false_positives: 2.0000 - false_negatives: 2.0000\n",
      "Epoch 29: accuracy did not improve from 0.96875\n",
      " 2/10 [=====>........................] - ETA: 25s - loss: 0.2317 - accuracy: 0.9531 - recall: 0.9531 - true_positives: 61.0000 - true_negatives: 61.0000 - false_positives: 3.0000 - false_negatives: 3.0000\n",
      "Epoch 29: accuracy did not improve from 0.96875\n",
      " 3/10 [========>.....................] - ETA: 21s - loss: 0.2585 - accuracy: 0.9375 - recall: 0.9375 - true_positives: 90.0000 - true_negatives: 90.0000 - false_positives: 6.0000 - false_negatives: 6.0000\n",
      "Epoch 29: accuracy did not improve from 0.96875\n",
      " 4/10 [===========>..................] - ETA: 16s - loss: 0.2897 - accuracy: 0.9219 - recall: 0.9219 - true_positives: 118.0000 - true_negatives: 118.0000 - false_positives: 10.0000 - false_negatives: 10.0000\n",
      "Epoch 29: accuracy did not improve from 0.96875\n",
      " 5/10 [==============>...............] - ETA: 15s - loss: 0.3710 - accuracy: 0.8875 - recall: 0.8875 - true_positives: 142.0000 - true_negatives: 142.0000 - false_positives: 18.0000 - false_negatives: 18.0000\n",
      "Epoch 29: accuracy did not improve from 0.96875\n",
      " 6/10 [=================>............] - ETA: 12s - loss: 0.3741 - accuracy: 0.8854 - recall: 0.8854 - true_positives: 170.0000 - true_negatives: 170.0000 - false_positives: 22.0000 - false_negatives: 22.0000\n",
      "Epoch 29: accuracy did not improve from 0.96875\n",
      " 7/10 [====================>.........] - ETA: 9s - loss: 0.3652 - accuracy: 0.8884 - recall: 0.8884 - true_positives: 199.0000 - true_negatives: 199.0000 - false_positives: 25.0000 - false_negatives: 25.0000 \n",
      "Epoch 29: accuracy did not improve from 0.96875\n",
      " 8/10 [=======================>......] - ETA: 6s - loss: 0.3678 - accuracy: 0.8867 - recall: 0.8867 - true_positives: 227.0000 - true_negatives: 227.0000 - false_positives: 29.0000 - false_negatives: 29.0000\n",
      "Epoch 29: accuracy did not improve from 0.96875\n",
      " 9/10 [==========================>...] - ETA: 3s - loss: 0.3857 - accuracy: 0.8785 - recall: 0.8785 - true_positives: 253.0000 - true_negatives: 253.0000 - false_positives: 35.0000 - false_negatives: 35.0000\n",
      "Epoch 29: accuracy did not improve from 0.96875\n",
      "10/10 [==============================] - 39s 4s/step - loss: 0.3988 - accuracy: 0.8719 - recall: 0.8719 - true_positives: 279.0000 - true_negatives: 279.0000 - false_positives: 41.0000 - false_negatives: 41.0000 - val_loss: 0.4024 - val_accuracy: 0.8625 - val_recall: 0.8625 - val_true_positives: 276.0000 - val_true_negatives: 276.0000 - val_false_positives: 44.0000 - val_false_negatives: 44.0000\n",
      "Epoch 30/30\n",
      "\n",
      "Epoch 30: accuracy did not improve from 0.96875\n",
      " 1/10 [==>...........................] - ETA: 37s - loss: 0.1875 - accuracy: 0.9688 - recall: 0.9688 - true_positives: 31.0000 - true_negatives: 31.0000 - false_positives: 1.0000 - false_negatives: 1.0000\n",
      "Epoch 30: accuracy did not improve from 0.96875\n",
      " 2/10 [=====>........................] - ETA: 37s - loss: 0.2520 - accuracy: 0.9375 - recall: 0.9375 - true_positives: 60.0000 - true_negatives: 60.0000 - false_positives: 4.0000 - false_negatives: 4.0000\n",
      "Epoch 30: accuracy did not improve from 0.96875\n",
      " 3/10 [========>.....................] - ETA: 26s - loss: 0.2353 - accuracy: 0.9479 - recall: 0.9479 - true_positives: 91.0000 - true_negatives: 91.0000 - false_positives: 5.0000 - false_negatives: 5.0000\n",
      "Epoch 30: accuracy did not improve from 0.96875\n",
      " 4/10 [===========>..................] - ETA: 22s - loss: 0.2708 - accuracy: 0.9297 - recall: 0.9297 - true_positives: 119.0000 - true_negatives: 119.0000 - false_positives: 9.0000 - false_negatives: 9.0000\n",
      "Epoch 30: accuracy did not improve from 0.96875\n",
      " 5/10 [==============>...............] - ETA: 18s - loss: 0.2803 - accuracy: 0.9250 - recall: 0.9250 - true_positives: 148.0000 - true_negatives: 148.0000 - false_positives: 12.0000 - false_negatives: 12.0000\n",
      "Epoch 30: accuracy did not improve from 0.96875\n",
      " 6/10 [=================>............] - ETA: 14s - loss: 0.2767 - accuracy: 0.9271 - recall: 0.9271 - true_positives: 178.0000 - true_negatives: 178.0000 - false_positives: 14.0000 - false_negatives: 14.0000\n",
      "Epoch 30: accuracy did not improve from 0.96875\n",
      " 7/10 [====================>.........] - ETA: 10s - loss: 0.2910 - accuracy: 0.9196 - recall: 0.9196 - true_positives: 206.0000 - true_negatives: 206.0000 - false_positives: 18.0000 - false_negatives: 18.0000\n",
      "Epoch 30: accuracy did not improve from 0.96875\n",
      " 8/10 [=======================>......] - ETA: 7s - loss: 0.2860 - accuracy: 0.9219 - recall: 0.9219 - true_positives: 236.0000 - true_negatives: 236.0000 - false_positives: 20.0000 - false_negatives: 20.0000 \n",
      "Epoch 30: accuracy did not improve from 0.96875\n",
      " 9/10 [==========================>...] - ETA: 3s - loss: 0.2962 - accuracy: 0.9167 - recall: 0.9167 - true_positives: 264.0000 - true_negatives: 264.0000 - false_positives: 24.0000 - false_negatives: 24.0000\n",
      "Epoch 30: accuracy did not improve from 0.96875\n",
      "10/10 [==============================] - 40s 4s/step - loss: 0.2842 - accuracy: 0.9219 - recall: 0.9219 - true_positives: 295.0000 - true_negatives: 295.0000 - false_positives: 25.0000 - false_negatives: 25.0000 - val_loss: 0.3537 - val_accuracy: 0.8875 - val_recall: 0.8875 - val_true_positives: 284.0000 - val_true_negatives: 284.0000 - val_false_positives: 36.0000 - val_false_negatives: 36.0000\n"
     ]
    }
   ],
   "source": [
    "from keras.callbacks import ModelCheckpoint, EarlyStopping\n",
    "metric = 'accuracy'\n",
    "checkpoint = ModelCheckpoint(\"vgg16_3.h5\", monitor = metric , verbose=1, save_best_only=True, save_weights_only=False, mode='auto', save_freq=1)\n",
    "early = EarlyStopping(min_delta=0, patience=20, verbose=1, mode='auto')\n",
    "# hist = model.fit_generator(steps_per_epoch=20,generator=traindata, validation_data= testdata, validation_steps=10,epochs=100,callbacks=[checkpoint,early])\n",
    "history = model.fit(train_generator,steps_per_epoch=10,epochs=30,validation_data = validation_generator,validation_steps=10, callbacks=[checkpoint,early])\n",
    "# for key in hist.history:\n",
    "#   print(key)"
   ]
  },
  {
   "cell_type": "code",
   "execution_count": 10,
   "metadata": {
    "colab": {
     "base_uri": "https://localhost:8080/"
    },
    "id": "6MHGnGFUZ2_1",
    "outputId": "5de6daf0-6980-4710-9663-170d3378ea39"
   },
   "outputs": [
    {
     "name": "stdout",
     "output_type": "stream",
     "text": [
      "165/165 [==============================] - 82s 497ms/step - loss: 0.4019 - accuracy: 0.8663 - recall: 0.8663 - true_positives: 4561.0000 - true_negatives: 4561.0000 - false_positives: 704.0000 - false_negatives: 704.0000\n"
     ]
    },
    {
     "data": {
      "text/plain": [
       "[0.40194520354270935,\n",
       " 0.8662868142127991,\n",
       " 0.8662868142127991,\n",
       " 4561.0,\n",
       " 4561.0,\n",
       " 704.0,\n",
       " 704.0]"
      ]
     },
     "execution_count": 10,
     "metadata": {},
     "output_type": "execute_result"
    }
   ],
   "source": [
    "model.evaluate(validation_generator)"
   ]
  },
  {
   "cell_type": "code",
   "execution_count": 11,
   "metadata": {
    "colab": {
     "base_uri": "https://localhost:8080/"
    },
    "id": "5DQKmVAzZ_VH",
    "outputId": "e70da038-45a9-439d-be0b-936786762be2"
   },
   "outputs": [
    {
     "name": "stdout",
     "output_type": "stream",
     "text": [
      "165/165 [==============================] - 24s 143ms/step\n"
     ]
    }
   ],
   "source": [
    "STEP_SIZE_TEST=validation_generator.n//validation_generator.batch_size\n",
    "validation_generator.reset()\n",
    "preds = model.predict(validation_generator,verbose=1)"
   ]
  },
  {
   "cell_type": "code",
   "execution_count": 33,
   "metadata": {
    "colab": {
     "base_uri": "https://localhost:8080/"
    },
    "id": "uWac21aef7W3",
    "outputId": "9eaafe00-4a10-47a6-d654-a5fac2f5cac3"
   },
   "outputs": [
    {
     "data": {
      "text/plain": [
       "array([[0.24265532, 0.756631  ],\n",
       "       [0.24265532, 0.75663096],\n",
       "       [0.24265532, 0.75663096],\n",
       "       ...,\n",
       "       [0.24265535, 0.75663096],\n",
       "       [0.24265532, 0.75663096],\n",
       "       [0.24265532, 0.75663096]], dtype=float32)"
      ]
     },
     "execution_count": 33,
     "metadata": {},
     "output_type": "execute_result"
    }
   ],
   "source": [
    "preds"
   ]
  },
  {
   "cell_type": "code",
   "execution_count": 17,
   "metadata": {
    "colab": {
     "base_uri": "https://localhost:8080/",
     "height": 295
    },
    "id": "EinUF_D9_g6A",
    "outputId": "3a27a76d-a524-49de-f678-fe8430165035"
   },
   "outputs": [
    {
     "data": {
      "image/png": "[encoded data removed]",
      "text/plain": [
       "<Figure size 432x288 with 1 Axes>"
      ]
     },
     "metadata": {
      "needs_background": "light"
     },
     "output_type": "display_data"
    }
   ],
   "source": [
    "plt.plot(history.history[\"accuracy\"])\n",
    "plt.plot(history.history['val_accuracy'])\n",
    "plt.plot(history.history['loss'])\n",
    "plt.plot(history.history['val_loss'])\n",
    "plt.title(\"comparison with accuracy and loss\")\n",
    "plt.ylabel(\"Accuracy\")\n",
    "plt.xlabel(\"Epoch\")\n",
    "plt.legend([\"Accuracy\",\"Validation Accuracy\",\"Loss\",\"Validation Loss\"])\n",
    "plt.show()"
   ]
  },
  {
   "cell_type": "code",
   "execution_count": 18,
   "metadata": {
    "colab": {
     "base_uri": "https://localhost:8080/",
     "height": 295
    },
    "id": "Iq6CexZMt9Yb",
    "outputId": "5d6a6fd4-9330-4e81-f4cb-d627c2078023"
   },
   "outputs": [
    {
     "data": {
      "image/png": "[encoded data removed]",
      "text/plain": [
       "<Figure size 432x288 with 1 Axes>"
      ]
     },
     "metadata": {
      "needs_background": "light"
     },
     "output_type": "display_data"
    }
   ],
   "source": [
    "plt.plot(history.history['val_accuracy'])\n",
    "plt.title(\"model accuracy\")\n",
    "plt.ylabel(\"Accuracy\")\n",
    "plt.xlabel(\"Epoch\")\n",
    "plt.legend([\"Epoch\",\"Validation Accuracy\"])\n",
    "plt.show()"
   ]
  },
  {
   "cell_type": "code",
   "execution_count": 36,
   "metadata": {
    "colab": {
     "base_uri": "https://localhost:8080/"
    },
    "id": "Ue5JJ-j9oBCl",
    "outputId": "9d30029d-08f9-4e24-a2f4-fc305b24272a"
   },
   "outputs": [
    {
     "name": "stdout",
     "output_type": "stream",
     "text": [
      "165/165 [==============================] - 24s 144ms/step - loss: 0.4019 - accuracy: 0.8663 - recall: 0.8663 - true_positives: 4561.0000 - true_negatives: 4561.0000 - false_positives: 704.0000 - false_negatives: 704.0000\n"
     ]
    }
   ],
   "source": [
    "vals = model.evaluate(validation_generator)"
   ]
  },
  {
   "cell_type": "code",
   "execution_count": 37,
   "metadata": {
    "colab": {
     "base_uri": "https://localhost:8080/"
    },
    "id": "U0GCkGYUoTNX",
    "outputId": "f31c7e6d-0f58-44e3-930f-5a0dfd2d1219"
   },
   "outputs": [
    {
     "data": {
      "text/plain": [
       "[0.4019453227519989,\n",
       " 0.8662868142127991,\n",
       " 0.8662868142127991,\n",
       " 4561.0,\n",
       " 4561.0,\n",
       " 704.0,\n",
       " 704.0]"
      ]
     },
     "execution_count": 37,
     "metadata": {},
     "output_type": "execute_result"
    }
   ],
   "source": [
    "vals"
   ]
  },
  {
   "cell_type": "code",
   "execution_count": 38,
   "metadata": {
    "id": "e1irQtYhohwI"
   },
   "outputs": [],
   "source": [
    "tp = vals[3]\n",
    "tn = vals[4]\n",
    "fp = vals[5]\n",
    "fn = vals[6]"
   ]
  },
  {
   "cell_type": "code",
   "execution_count": 39,
   "metadata": {
    "id": "pmmP9dZY28Zl"
   },
   "outputs": [],
   "source": [
    "def conf_matrix(tp, tn, fp, fn):\n",
    "  print('            True ','\\t  False')\n",
    "  print('Positive  ', str(tp), '\\t '+ str(fp))\n",
    "  print('Negative  ', str(fn), '\\t ' + str(tn))"
   ]
  },
  {
   "cell_type": "code",
   "execution_count": 40,
   "metadata": {
    "colab": {
     "base_uri": "https://localhost:8080/"
    },
    "id": "8ib0G_RL2Clb",
    "outputId": "dc904a45-9adf-4893-c3d9-37cf9bb97670"
   },
   "outputs": [
    {
     "name": "stdout",
     "output_type": "stream",
     "text": [
      "            True  \t  False\n",
      "Positive   4561.0 \t 704.0\n",
      "Negative   704.0 \t 4561.0\n"
     ]
    }
   ],
   "source": [
    "conf_matrix(tp, tn, fp, fn)"
   ]
  },
  {
   "cell_type": "code",
   "execution_count": 41,
   "metadata": {
    "colab": {
     "base_uri": "https://localhost:8080/",
     "height": 266
    },
    "id": "zKji6VYL4a1T",
    "outputId": "cd76a04b-ed2d-45db-ccdf-e44911278ade"
   },
   "outputs": [
    {
     "data": {
      "image/png": "[encoded data removed]",
      "text/plain": [
       "<Figure size 432x288 with 2 Axes>"
      ]
     },
     "metadata": {
      "needs_background": "light"
     },
     "output_type": "display_data"
    }
   ],
   "source": [
    "import seaborn as sns\n",
    "cm_data = [[int(tn), int(fp)], [int(fn), int(tp)]]\n",
    "sns.heatmap(cm_data, annot=True, cmap='Blues', fmt='d')\n",
    "plt.show()"
   ]
  },
  {
   "cell_type": "code",
   "execution_count": 42,
   "metadata": {
    "id": "C1o9HE4WICxO"
   },
   "outputs": [],
   "source": [
    "Accuracy = (tp+tn)/(tp+tn+fp+fn)\n",
    "Precision = tp / (tp+fp)\n",
    "Recall = tp / (tp+fn)\n",
    "F1_Score = 2 * ((Precision*Recall)/(Precision+Recall))"
   ]
  },
  {
   "cell_type": "code",
   "execution_count": 43,
   "metadata": {
    "colab": {
     "base_uri": "https://localhost:8080/"
    },
    "id": "V1C5pjTJItjz",
    "outputId": "b42b9eb8-4065-49d2-907a-b0892607ba28"
   },
   "outputs": [
    {
     "name": "stdout",
     "output_type": "stream",
     "text": [
      "Accuracy :  0.866286799620133\n",
      "Precision:  0.866286799620133\n",
      "Recall   :  0.866286799620133\n",
      "F1_Score :  0.866286799620133\n"
     ]
    }
   ],
   "source": [
    "print('Accuracy : ',Accuracy)\n",
    "print('Precision: ',Precision)\n",
    "print('Recall   : ',Recall)\n",
    "print('F1_Score : ',F1_Score)"
   ]
  },
  {
   "cell_type": "code",
   "execution_count": 47,
   "metadata": {
    "id": "lql_ZbJYO87l"
   },
   "outputs": [],
   "source": [
    "%matplotlib inline\n",
    "import matplotlib.pyplot as plt\n",
    "import numpy as np\n",
    "from google.colab import files\n",
    "from keras.preprocessing import image"
   ]
  },
  {
   "cell_type": "code",
   "execution_count": 51,
   "metadata": {
    "colab": {
     "base_uri": "https://localhost:8080/",
     "height": 360,
     "resources": {
      "http://localhost:8080/nbextensions/google.colab/files.js": {
       "data": "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",
       "headers": [
        [
         "content-type",
         "application/javascript"
        ]
       ],
       "ok": true,
       "status": 200,
       "status_text": "OK"
      }
     }
    },
    "id": "DBmPdt_GrxKo",
    "outputId": "febe1d28-f69c-4dd2-a498-85899eb570e7"
   },
   "outputs": [
    {
     "data": {
      "text/html": [
       "\n",
       "     <input type=\"file\" id=\"files-e5979c00-89fc-419f-8c67-c523b88d7eb1\" name=\"files[]\" multiple disabled\n",
       "        style=\"border:none\" />\n",
       "     <output id=\"result-e5979c00-89fc-419f-8c67-c523b88d7eb1\">\n",
       "      Upload widget is only available when the cell has been executed in the\n",
       "      current browser session. Please rerun this cell to enable.\n",
       "      </output>\n",
       "      <script src=\"/nbextensions/google.colab/files.js\"></script> "
      ],
      "text/plain": [
       "<IPython.core.display.HTML object>"
      ]
     },
     "metadata": {},
     "output_type": "display_data"
    },
    {
     "name": "stdout",
     "output_type": "stream",
     "text": [
      "Saving pd.png to pd (2).png\n",
      "[0.24264945 0.75663626]\n",
      "pd.png is a pd\n"
     ]
    },
    {
     "data": {
      "image/png": "[encoded data removed]",
      "text/plain": [
       "<Figure size 432x288 with 1 Axes>"
      ]
     },
     "metadata": {
      "needs_background": "light"
     },
     "output_type": "display_data"
    }
   ],
   "source": [
    "uploaded = files.upload()\n",
    "\n",
    "for fn in uploaded.keys():\n",
    " \n",
    "  # predicting images\n",
    "  path = '/content/' + fn\n",
    "  img = image.load_img(path, target_size=(224, 224))\n",
    "  x = image.img_to_array(img)\n",
    "  plt.imshow(x/255.)\n",
    "  x = np.expand_dims(x, axis=0)\n",
    "  images = np.vstack([x])\n",
    "  classes = model.predict(images, batch_size=10)\n",
    "  print(classes[0])\n",
    "  if classes[0][0]<0.5:\n",
    "    print(fn + \" is a pd\")\n",
    "  else:\n",
    "    print(fn + \" is hc\")"
   ]
  },
  {
   "cell_type": "code",
   "execution_count": 52,
   "metadata": {
    "colab": {
     "base_uri": "https://localhost:8080/",
     "height": 360,
     "resources": {
      "http://localhost:8080/nbextensions/google.colab/files.js": {
       "data": "Ly8gQ29weXJpZ2h0IDIwMTcgR29vZ2xlIExMQwovLwovLyBMaWNlbnNlZCB1bmRlciB0aGUgQXBhY2hlIExpY2Vuc2UsIFZlcnNpb24gMi4wICh0aGUgIkxpY2Vuc2UiKTsKLy8geW91IG1heSBub3QgdXNlIHRoaXMgZmlsZSBleGNlcHQgaW4gY29tcGxpYW5jZSB3aXRoIHRoZSBMaWNlbnNlLgovLyBZb3UgbWF5IG9idGFpbiBhIGNvcHkgb2YgdGhlIExpY2Vuc2UgYXQKLy8KLy8gICAgICBodHRwOi8vd3d3LmFwYWNoZS5vcmcvbGljZW5zZXMvTElDRU5TRS0yLjAKLy8KLy8gVW5sZXNzIHJlcXVpcmVkIGJ5IGFwcGxpY2FibGUgbGF3IG9yIGFncmVlZCB0byBpbiB3cml0aW5nLCBzb2Z0d2FyZQovLyBkaXN0cmlidXRlZCB1bmRlciB0aGUgTGljZW5zZSBpcyBkaXN0cmlidXRlZCBvbiBhbiAiQVMgSVMiIEJBU0lTLAovLyBXSVRIT1VUIFdBUlJBTlRJRVMgT1IgQ09ORElUSU9OUyBPRiBBTlkgS0lORCwgZWl0aGVyIGV4cHJlc3Mgb3IgaW1wbGllZC4KLy8gU2VlIHRoZSBMaWNlbnNlIGZvciB0aGUgc3BlY2lmaWMgbGFuZ3VhZ2UgZ292ZXJuaW5nIHBlcm1pc3Npb25zIGFuZAovLyBsaW1pdGF0aW9ucyB1bmRlciB0aGUgTGljZW5zZS4KCi8qKgogKiBAZmlsZW92ZXJ2aWV3IEhlbHBlcnMgZm9yIGdvb2dsZS5jb2xhYiBQeXRob24gbW9kdWxlLgogKi8KKGZ1bmN0aW9uKHNjb3BlKSB7CmZ1bmN0aW9uIHNwYW4odGV4dCwgc3R5bGVBdHRyaWJ1dGVzID0ge30pIHsKICBjb25zdCBlbGVtZW50ID0gZG9jdW1lbnQuY3JlYXRlRWxlbWVudCgnc3BhbicpOwogIGVsZW1lbnQudGV4dENvbnRlbnQgPSB0ZXh0OwogIGZvciAoY29uc3Qga2V5IG9mIE9iamVjdC5rZXlzKHN0eWxlQXR0cmlidXRlcykpIHsKICAgIGVsZW1lbnQuc3R5bGVba2V5XSA9IHN0eWxlQXR0cmlidXRlc1trZXldOwogIH0KICByZXR1cm4gZWxlbWVudDsKfQoKLy8gTWF4IG51bWJlciBvZiBieXRlcyB3aGljaCB3aWxsIGJlIHVwbG9hZGVkIGF0IGEgdGltZS4KY29uc3QgTUFYX1BBWUxPQURfU0laRSA9IDEwMCAqIDEwMjQ7CgpmdW5jdGlvbiBfdXBsb2FkRmlsZXMoaW5wdXRJZCwgb3V0cHV0SWQpIHsKICBjb25zdCBzdGVwcyA9IHVwbG9hZEZpbGVzU3RlcChpbnB1dElkLCBvdXRwdXRJZCk7CiAgY29uc3Qgb3V0cHV0RWxlbWVudCA9IGRvY3VtZW50LmdldEVsZW1lbnRCeUlkKG91dHB1dElkKTsKICAvLyBDYWNoZSBzdGVwcyBvbiB0aGUgb3V0cHV0RWxlbWVudCB0byBtYWtlIGl0IGF2YWlsYWJsZSBmb3IgdGhlIG5leHQgY2FsbAogIC8vIHRvIHVwbG9hZEZpbGVzQ29udGludWUgZnJvbSBQeXRob24uCiAgb3V0cHV0RWxlbWVudC5zdGVwcyA9IHN0ZXBzOwoKICByZXR1cm4gX3VwbG9hZEZpbGVzQ29udGludWUob3V0cHV0SWQpOwp9CgovLyBUaGlzIGlzIHJvdWdobHkgYW4gYXN5bmMgZ2VuZXJhdG9yIChub3Qgc3VwcG9ydGVkIGluIHRoZSBicm93c2VyIHlldCksCi8vIHdoZXJlIHRoZXJlIGFyZSBtdWx0aXBsZSBhc3luY2hyb25vdXMgc3RlcHMgYW5kIHRoZSBQeXRob24gc2lkZSBpcyBnb2luZwovLyB0byBwb2xsIGZvciBjb21wbGV0aW9uIG9mIGVhY2ggc3RlcC4KLy8gVGhpcyB1c2VzIGEgUHJvbWlzZSB0byBibG9jayB0aGUgcHl0aG9uIHNpZGUgb24gY29tcGxldGlvbiBvZiBlYWNoIHN0ZXAsCi8vIHRoZW4gcGFzc2VzIHRoZSByZXN1bHQgb2YgdGhlIHByZXZpb3VzIHN0ZXAgYXMgdGhlIGlucHV0IHRvIHRoZSBuZXh0IHN0ZXAuCmZ1bmN0aW9uIF91cGxvYWRGaWxlc0NvbnRpbnVlKG91dHB1dElkKSB7CiAgY29uc3Qgb3V0cHV0RWxlbWVudCA9IGRvY3VtZW50LmdldEVsZW1lbnRCeUlkKG91dHB1dElkKTsKICBjb25zdCBzdGVwcyA9IG91dHB1dEVsZW1lbnQuc3RlcHM7CgogIGNvbnN0IG5leHQgPSBzdGVwcy5uZXh0KG91dHB1dEVsZW1lbnQubGFzdFByb21pc2VWYWx1ZSk7CiAgcmV0dXJuIFByb21pc2UucmVzb2x2ZShuZXh0LnZhbHVlLnByb21pc2UpLnRoZW4oKHZhbHVlKSA9PiB7CiAgICAvLyBDYWNoZSB0aGUgbGFzdCBwcm9taXNlIHZhbHVlIHRvIG1ha2UgaXQgYXZhaWxhYmxlIHRvIHRoZSBuZXh0CiAgICAvLyBzdGVwIG9mIHRoZSBnZW5lcmF0b3IuCiAgICBvdXRwdXRFbGVtZW50Lmxhc3RQcm9taXNlVmFsdWUgPSB2YWx1ZTsKICAgIHJldHVybiBuZXh0LnZhbHVlLnJlc3BvbnNlOwogIH0pOwp9CgovKioKICogR2VuZXJhdG9yIGZ1bmN0aW9uIHdoaWNoIGlzIGNhbGxlZCBiZXR3ZWVuIGVhY2ggYXN5bmMgc3RlcCBvZiB0aGUgdXBsb2FkCiAqIHByb2Nlc3MuCiAqIEBwYXJhbSB7c3RyaW5nfSBpbnB1dElkIEVsZW1lbnQgSUQgb2YgdGhlIGlucHV0IGZpbGUgcGlja2VyIGVsZW1lbnQuCiAqIEBwYXJhbSB7c3RyaW5nfSBvdXRwdXRJZCBFbGVtZW50IElEIG9mIHRoZSBvdXRwdXQgZGlzcGxheS4KICogQHJldHVybiB7IUl0ZXJhYmxlPCFPYmplY3Q+fSBJdGVyYWJsZSBvZiBuZXh0IHN0ZXBzLgogKi8KZnVuY3Rpb24qIHVwbG9hZEZpbGVzU3RlcChpbnB1dElkLCBvdXRwdXRJZCkgewogIGNvbnN0IGlucHV0RWxlbWVudCA9IGRvY3VtZW50LmdldEVsZW1lbnRCeUlkKGlucHV0SWQpOwogIGlucHV0RWxlbWVudC5kaXNhYmxlZCA9IGZhbHNlOwoKICBjb25zdCBvdXRwdXRFbGVtZW50ID0gZG9jdW1lbnQuZ2V0RWxlbWVudEJ5SWQob3V0cHV0SWQpOwogIG91dHB1dEVsZW1lbnQuaW5uZXJIVE1MID0gJyc7CgogIGNvbnN0IHBpY2tlZFByb21pc2UgPSBuZXcgUHJvbWlzZSgocmVzb2x2ZSkgPT4gewogICAgaW5wdXRFbGVtZW50LmFkZEV2ZW50TGlzdGVuZXIoJ2NoYW5nZScsIChlKSA9PiB7CiAgICAgIHJlc29sdmUoZS50YXJnZXQuZmlsZXMpOwogICAgfSk7CiAgfSk7CgogIGNvbnN0IGNhbmNlbCA9IGRvY3VtZW50LmNyZWF0ZUVsZW1lbnQoJ2J1dHRvbicpOwogIGlucHV0RWxlbWVudC5wYXJlbnRFbGVtZW50LmFwcGVuZENoaWxkKGNhbmNlbCk7CiAgY2FuY2VsLnRleHRDb250ZW50ID0gJ0NhbmNlbCB1cGxvYWQnOwogIGNvbnN0IGNhbmNlbFByb21pc2UgPSBuZXcgUHJvbWlzZSgocmVzb2x2ZSkgPT4gewogICAgY2FuY2VsLm9uY2xpY2sgPSAoKSA9PiB7CiAgICAgIHJlc29sdmUobnVsbCk7CiAgICB9OwogIH0pOwoKICAvLyBXYWl0IGZvciB0aGUgdXNlciB0byBwaWNrIHRoZSBmaWxlcy4KICBjb25zdCBmaWxlcyA9IHlpZWxkIHsKICAgIHByb21pc2U6IFByb21pc2UucmFjZShbcGlja2VkUHJvbWlzZSwgY2FuY2VsUHJvbWlzZV0pLAogICAgcmVzcG9uc2U6IHsKICAgICAgYWN0aW9uOiAnc3RhcnRpbmcnLAogICAgfQogIH07CgogIGNhbmNlbC5yZW1vdmUoKTsKCiAgLy8gRGlzYWJsZSB0aGUgaW5wdXQgZWxlbWVudCBzaW5jZSBmdXJ0aGVyIHBpY2tzIGFyZSBub3QgYWxsb3dlZC4KICBpbnB1dEVsZW1lbnQuZGlzYWJsZWQgPSB0cnVlOwoKICBpZiAoIWZpbGVzKSB7CiAgICByZXR1cm4gewogICAgICByZXNwb25zZTogewogICAgICAgIGFjdGlvbjogJ2NvbXBsZXRlJywKICAgICAgfQogICAgfTsKICB9CgogIGZvciAoY29uc3QgZmlsZSBvZiBmaWxlcykgewogICAgY29uc3QgbGkgPSBkb2N1bWVudC5jcmVhdGVFbGVtZW50KCdsaScpOwogICAgbGkuYXBwZW5kKHNwYW4oZmlsZS5uYW1lLCB7Zm9udFdlaWdodDogJ2JvbGQnfSkpOwogICAgbGkuYXBwZW5kKHNwYW4oCiAgICAgICAgYCgke2ZpbGUudHlwZSB8fCAnbi9hJ30pIC0gJHtmaWxlLnNpemV9IGJ5dGVzLCBgICsKICAgICAgICBgbGFzdCBtb2RpZmllZDogJHsKICAgICAgICAgICAgZmlsZS5sYXN0TW9kaWZpZWREYXRlID8gZmlsZS5sYXN0TW9kaWZpZWREYXRlLnRvTG9jYWxlRGF0ZVN0cmluZygpIDoKICAgICAgICAgICAgICAgICAgICAgICAgICAgICAgICAgICAgJ24vYSd9IC0gYCkpOwogICAgY29uc3QgcGVyY2VudCA9IHNwYW4oJzAlIGRvbmUnKTsKICAgIGxpLmFwcGVuZENoaWxkKHBlcmNlbnQpOwoKICAgIG91dHB1dEVsZW1lbnQuYXBwZW5kQ2hpbGQobGkpOwoKICAgIGNvbnN0IGZpbGVEYXRhUHJvbWlzZSA9IG5ldyBQcm9taXNlKChyZXNvbHZlKSA9PiB7CiAgICAgIGNvbnN0IHJlYWRlciA9IG5ldyBGaWxlUmVhZGVyKCk7CiAgICAgIHJlYWRlci5vbmxvYWQgPSAoZSkgPT4gewogICAgICAgIHJlc29sdmUoZS50YXJnZXQucmVzdWx0KTsKICAgICAgfTsKICAgICAgcmVhZGVyLnJlYWRBc0FycmF5QnVmZmVyKGZpbGUpOwogICAgfSk7CiAgICAvLyBXYWl0IGZvciB0aGUgZGF0YSB0byBiZSByZWFkeS4KICAgIGxldCBmaWxlRGF0YSA9IHlpZWxkIHsKICAgICAgcHJvbWlzZTogZmlsZURhdGFQcm9taXNlLAogICAgICByZXNwb25zZTogewogICAgICAgIGFjdGlvbjogJ2NvbnRpbnVlJywKICAgICAgfQogICAgfTsKCiAgICAvLyBVc2UgYSBjaHVua2VkIHNlbmRpbmcgdG8gYXZvaWQgbWVzc2FnZSBzaXplIGxpbWl0cy4gU2VlIGIvNjIxMTU2NjAuCiAgICBsZXQgcG9zaXRpb24gPSAwOwogICAgZG8gewogICAgICBjb25zdCBsZW5ndGggPSBNYXRoLm1pbihmaWxlRGF0YS5ieXRlTGVuZ3RoIC0gcG9zaXRpb24sIE1BWF9QQVlMT0FEX1NJWkUpOwogICAgICBjb25zdCBjaHVuayA9IG5ldyBVaW50OEFycmF5KGZpbGVEYXRhLCBwb3NpdGlvbiwgbGVuZ3RoKTsKICAgICAgcG9zaXRpb24gKz0gbGVuZ3RoOwoKICAgICAgY29uc3QgYmFzZTY0ID0gYnRvYShTdHJpbmcuZnJvbUNoYXJDb2RlLmFwcGx5KG51bGwsIGNodW5rKSk7CiAgICAgIHlpZWxkIHsKICAgICAgICByZXNwb25zZTogewogICAgICAgICAgYWN0aW9uOiAnYXBwZW5kJywKICAgICAgICAgIGZpbGU6IGZpbGUubmFtZSwKICAgICAgICAgIGRhdGE6IGJhc2U2NCwKICAgICAgICB9LAogICAgICB9OwoKICAgICAgbGV0IHBlcmNlbnREb25lID0gZmlsZURhdGEuYnl0ZUxlbmd0aCA9PT0gMCA/CiAgICAgICAgICAxMDAgOgogICAgICAgICAgTWF0aC5yb3VuZCgocG9zaXRpb24gLyBmaWxlRGF0YS5ieXRlTGVuZ3RoKSAqIDEwMCk7CiAgICAgIHBlcmNlbnQudGV4dENvbnRlbnQgPSBgJHtwZXJjZW50RG9uZX0lIGRvbmVgOwoKICAgIH0gd2hpbGUgKHBvc2l0aW9uIDwgZmlsZURhdGEuYnl0ZUxlbmd0aCk7CiAgfQoKICAvLyBBbGwgZG9uZS4KICB5aWVsZCB7CiAgICByZXNwb25zZTogewogICAgICBhY3Rpb246ICdjb21wbGV0ZScsCiAgICB9CiAgfTsKfQoKc2NvcGUuZ29vZ2xlID0gc2NvcGUuZ29vZ2xlIHx8IHt9OwpzY29wZS5nb29nbGUuY29sYWIgPSBzY29wZS5nb29nbGUuY29sYWIgfHwge307CnNjb3BlLmdvb2dsZS5jb2xhYi5fZmlsZXMgPSB7CiAgX3VwbG9hZEZpbGVzLAogIF91cGxvYWRGaWxlc0NvbnRpbnVlLAp9Owp9KShzZWxmKTsK",
       "headers": [
        [
         "content-type",
         "application/javascript"
        ]
       ],
       "ok": true,
       "status": 200,
       "status_text": "OK"
      }
     }
    },
    "id": "M0LBYopTtJ6u",
    "outputId": "1deb0ea8-68bf-463d-8bd7-d8d2909bf569"
   },
   "outputs": [
    {
     "data": {
      "text/html": [
       "\n",
       "     <input type=\"file\" id=\"files-3106bcd3-12c6-46c3-92de-ae2ca3c878a5\" name=\"files[]\" multiple disabled\n",
       "        style=\"border:none\" />\n",
       "     <output id=\"result-3106bcd3-12c6-46c3-92de-ae2ca3c878a5\">\n",
       "      Upload widget is only available when the cell has been executed in the\n",
       "      current browser session. Please rerun this cell to enable.\n",
       "      </output>\n",
       "      <script src=\"/nbextensions/google.colab/files.js\"></script> "
      ],
      "text/plain": [
       "<IPython.core.display.HTML object>"
      ]
     },
     "metadata": {},
     "output_type": "display_data"
    },
    {
     "name": "stdout",
     "output_type": "stream",
     "text": [
      "Saving heal.png to heal (1).png\n",
      "[0.71663624 0.28336373]\n",
      "heal.png is hc\n"
     ]
    },
    {
     "data": {
      "image/png": "[encoded data removed]",
      "text/plain": [
       "<Figure size 432x288 with 1 Axes>"
      ]
     },
     "metadata": {
      "needs_background": "light"
     },
     "output_type": "display_data"
    }
   ],
   "source": [
    "uploaded = files.upload()\n",
    "\n",
    "for fn in uploaded.keys():\n",
    " \n",
    "  # predicting images\n",
    "  path = '/content/' + fn\n",
    "  img = image.load_img(path, target_size=(224, 224))\n",
    "  x = image.img_to_array(img)\n",
    "  plt.imshow(x/255.)\n",
    "  x = np.expand_dims(x, axis=0)\n",
    "  images = np.vstack([x])\n",
    "  classes = model.predict(images, batch_size=10)\n",
    "  print(classes[0])\n",
    "  if classes[0][0]<0.5:\n",
    "    print(fn + \" is a pd\")\n",
    "  else:\n",
    "    print(fn + \" is hc\")"
   ]
  },
  {
   "cell_type": "code",
   "execution_count": null,
   "metadata": {
    "id": "sVyNazyYxGQ8"
   },
   "outputs": [],
   "source": []
  }
 ],
 "metadata": {
  "accelerator": "GPU",
  "colab": {
   "collapsed_sections": [],
   "name": "final_fyp_model.ipynb",
   "provenance": []
  },
  "kernelspec": {
   "display_name": "Python 3",
   "language": "python",
   "name": "python3"
  },
  "language_info": {
   "codemirror_mode": {
    "name": "ipython",
    "version": 3
   },
   "file_extension": ".py",
   "mimetype": "text/x-python",
   "name": "python",
   "nbconvert_exporter": "python",
   "pygments_lexer": "ipython3",
   "version": "3.8.10"
  }
 },
 "nbformat": 4,
 "nbformat_minor": 1
}
